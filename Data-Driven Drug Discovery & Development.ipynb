{
 "cells": [
  {
   "cell_type": "markdown",
   "id": "51464e8c",
   "metadata": {
    "papermill": {
     "duration": 0.060406,
     "end_time": "2022-05-04T02:53:14.632769",
     "exception": false,
     "start_time": "2022-05-04T02:53:14.572363",
     "status": "completed"
    },
    "tags": []
   },
   "source": [
    "# 1. Introduction 👋\n",
    "<center><img src=\"https://www.researchgate.net/profile/Serdar-Yuksel/publication/341495187/figure/fig3/AS:893006181847044@1589920673562/The-father-of-medicine-Hippocrates.jpg\" alt=\"Drug Picture\" width=\"700\" height=\"700\"></center><br>\n",
    "\n",
    "## Data Set Problems 🤔\n",
    "👉 This dataset contains information about drug classification based on patient general information and its diagnosis. Machine learning model is needed in order **to predict the outcome of the drugs type** that might be suitable for the patient.\n",
    "\n",
    "---\n",
    "\n",
    "## Objectives of Notebook 📌\n",
    "👉 **This notebook aims to:**\n",
    "*   Dataset exploration using various types of data visualization.\n",
    "*   Build various ML models that can predict drug type.\n",
    "\n",
    "👨‍💻 **The machine learning models used in this project are:** \n",
    "1. Linear Logistic Regression\n",
    "2. Linear Support Vector Machine (SVM)\n",
    "3. K Neighbours\n",
    "4. Naive Bayes (Categorical & Gaussian)\n",
    "5. Decision Tree\n",
    "6. Random Forest\n",
    "\n",
    "---\n",
    "\n",
    "## Data Set Description 🧾\n",
    "\n",
    "👉 There are **6 variables** in this data set:\n",
    "*   **4 categorical** variables,and\n",
    "*   **2 continuous** variables.\n",
    "\n",
    "<br>\n",
    "\n",
    "👉 The following is the **structure of the data set**.\n",
    "\n",
    "\n",
    "<table style=\"width:100%\">\n",
    "<thead>\n",
    "<tr>\n",
    "<th style=\"text-align:center; font-weight: bold; font-size:14px\">Variable Name</th>\n",
    "<th style=\"text-align:center; font-weight: bold; font-size:14px\">Description</th>\n",
    "<th style=\"text-align:center; font-weight: bold; font-size:14px\">Sample Data</th>\n",
    "</tr>\n",
    "</thead>\n",
    "<tbody>\n",
    "<tr>\n",
    "<td><b>Age</b></td>\n",
    "<td>Patient Age</td>\n",
    "<td>23; 47; ...</td>\n",
    "</tr>\n",
    "<tr>\n",
    "<td><b>Sex</b></td>\n",
    "<td>Gender of patient <br> (male or female)</td>\n",
    "<td>F; M; ...</td>\n",
    "</tr>\n",
    "<tr>\n",
    "<td><b>BP</b></td>\n",
    "<td>Levels of blood pressure <br> (high, normal, or low)</td>\n",
    "<td>HIGH; NORMAL; LOW; ...</td>\n",
    "</tr>\n",
    "<tr>\n",
    "<td><b>Cholesterol</b></td>\n",
    "<td>Levels of cholesterol <br> (high or normal)</td>\n",
    "<td>1.4; 1.3; ...</td>\n",
    "</tr>\n",
    "<tr>\n",
    "<td><b>Na_to_K</b></td>\n",
    "<td>Sodium to potassium ratio in blood</td>\n",
    "<td>25.355; 13.093; ...</td>\n",
    "</tr>\n",
    "<tr>\n",
    "<td><b>Drug</b></td>\n",
    "<td>Type of drug</td>\n",
    "<td>DrugY; drugC; ...</td>\n",
    "</tr>\n",
    "</tbody>\n",
    "</table>\n",
    "\n",
    "---\n",
    "\n"
   ]
  },
  {
   "cell_type": "markdown",
   "id": "27788eec",
   "metadata": {
    "id": "2IQ7wR2Nf_UY",
    "papermill": {
     "duration": 0.056141,
     "end_time": "2022-05-04T02:53:14.745581",
     "exception": false,
     "start_time": "2022-05-04T02:53:14.689440",
     "status": "completed"
    },
    "tags": []
   },
   "source": [
    "# 2. Importing Libraries 📚\n",
    "👉 **Importing libraries** that will be used in this notebook."
   ]
  },
  {
   "cell_type": "code",
   "execution_count": 1,
   "id": "90539c1c",
   "metadata": {
    "execution": {
     "iopub.execute_input": "2022-05-04T02:53:14.868028Z",
     "iopub.status.busy": "2022-05-04T02:53:14.866226Z",
     "iopub.status.idle": "2022-05-04T02:53:15.799024Z",
     "shell.execute_reply": "2022-05-04T02:53:15.798287Z",
     "shell.execute_reply.started": "2022-03-08T01:25:02.454964Z"
    },
    "id": "BWyI7RUxdubo",
    "papermill": {
     "duration": 0.996157,
     "end_time": "2022-05-04T02:53:15.799208",
     "exception": false,
     "start_time": "2022-05-04T02:53:14.803051",
     "status": "completed"
    },
    "tags": []
   },
   "outputs": [],
   "source": [
    "import numpy as np\n",
    "import pandas as pd\n",
    "import matplotlib.pyplot as plt\n",
    "import seaborn as sns\n",
    "import os\n",
    "from sklearn.model_selection import train_test_split\n",
    "from sklearn.preprocessing import LabelEncoder\n",
    "from sklearn.metrics import accuracy_score, classification_report, confusion_matrix\n",
    "from sklearn.linear_model import LogisticRegression\n",
    "from sklearn.neighbors import KNeighborsClassifier\n",
    "from sklearn.svm import SVC\n",
    "from sklearn.naive_bayes import CategoricalNB, GaussianNB\n",
    "from sklearn.tree import DecisionTreeClassifier\n",
    "from sklearn.ensemble import RandomForestClassifier\n",
    "from imblearn.over_sampling import SMOTE"
   ]
  },
  {
   "cell_type": "markdown",
   "id": "7c467cc9",
   "metadata": {
    "id": "GOWA0yfdgKh2",
    "papermill": {
     "duration": 0.057851,
     "end_time": "2022-05-04T02:53:15.913048",
     "exception": false,
     "start_time": "2022-05-04T02:53:15.855197",
     "status": "completed"
    },
    "tags": []
   },
   "source": [
    "# 3. Reading Data Set 👓\n",
    "👉 After importing libraries, we will also **import the dataset** that will be used."
   ]
  },
  {
   "cell_type": "code",
   "execution_count": 49,
   "id": "a1887adb",
   "metadata": {
    "execution": {
     "iopub.execute_input": "2022-05-04T02:53:16.032035Z",
     "iopub.status.busy": "2022-05-04T02:53:16.030941Z",
     "iopub.status.idle": "2022-05-04T02:53:16.050526Z",
     "shell.execute_reply": "2022-05-04T02:53:16.051084Z",
     "shell.execute_reply.started": "2022-03-08T01:25:03.464398Z"
    },
    "id": "MttOdogGf977",
    "papermill": {
     "duration": 0.081087,
     "end_time": "2022-05-04T02:53:16.051265",
     "exception": false,
     "start_time": "2022-05-04T02:53:15.970178",
     "status": "completed"
    },
    "tags": []
   },
   "outputs": [],
   "source": [
    "df_drug = pd.read_csv(r\"C:\\Users\\Lokesh Patra\\Documents\\Projects\\IBM ICE Day 2\\drug200.csv\")"
   ]
  },
  {
   "cell_type": "markdown",
   "id": "68df4414",
   "metadata": {
    "papermill": {
     "duration": 0.056074,
     "end_time": "2022-05-04T02:53:16.164769",
     "exception": false,
     "start_time": "2022-05-04T02:53:16.108695",
     "status": "completed"
    },
    "tags": []
   },
   "source": [
    "👉 Read the first 6 rows in the dataset."
   ]
  },
  {
   "cell_type": "code",
   "execution_count": 50,
   "id": "88dfdd91",
   "metadata": {
    "execution": {
     "iopub.execute_input": "2022-05-04T02:53:16.281366Z",
     "iopub.status.busy": "2022-05-04T02:53:16.280346Z",
     "iopub.status.idle": "2022-05-04T02:53:16.301671Z",
     "shell.execute_reply": "2022-05-04T02:53:16.302171Z",
     "shell.execute_reply.started": "2022-03-08T01:25:03.485176Z"
    },
    "id": "03SilAIggW36",
    "outputId": "ec1244a8-a4a3-4200-af36-2c7776887477",
    "papermill": {
     "duration": 0.081123,
     "end_time": "2022-05-04T02:53:16.302346",
     "exception": false,
     "start_time": "2022-05-04T02:53:16.221223",
     "status": "completed"
    },
    "tags": []
   },
   "outputs": [
    {
     "data": {
      "text/html": [
       "<div>\n",
       "<style scoped>\n",
       "    .dataframe tbody tr th:only-of-type {\n",
       "        vertical-align: middle;\n",
       "    }\n",
       "\n",
       "    .dataframe tbody tr th {\n",
       "        vertical-align: top;\n",
       "    }\n",
       "\n",
       "    .dataframe thead th {\n",
       "        text-align: right;\n",
       "    }\n",
       "</style>\n",
       "<table border=\"1\" class=\"dataframe\">\n",
       "  <thead>\n",
       "    <tr style=\"text-align: right;\">\n",
       "      <th></th>\n",
       "      <th>Age</th>\n",
       "      <th>Sex</th>\n",
       "      <th>BP</th>\n",
       "      <th>Cholesterol</th>\n",
       "      <th>Na_to_K</th>\n",
       "      <th>Drug</th>\n",
       "    </tr>\n",
       "  </thead>\n",
       "  <tbody>\n",
       "    <tr>\n",
       "      <th>0</th>\n",
       "      <td>23</td>\n",
       "      <td>F</td>\n",
       "      <td>HIGH</td>\n",
       "      <td>HIGH</td>\n",
       "      <td>25.355</td>\n",
       "      <td>DrugY</td>\n",
       "    </tr>\n",
       "    <tr>\n",
       "      <th>1</th>\n",
       "      <td>47</td>\n",
       "      <td>M</td>\n",
       "      <td>LOW</td>\n",
       "      <td>HIGH</td>\n",
       "      <td>13.093</td>\n",
       "      <td>drugC</td>\n",
       "    </tr>\n",
       "    <tr>\n",
       "      <th>2</th>\n",
       "      <td>47</td>\n",
       "      <td>M</td>\n",
       "      <td>LOW</td>\n",
       "      <td>HIGH</td>\n",
       "      <td>10.114</td>\n",
       "      <td>drugC</td>\n",
       "    </tr>\n",
       "    <tr>\n",
       "      <th>3</th>\n",
       "      <td>28</td>\n",
       "      <td>F</td>\n",
       "      <td>NORMAL</td>\n",
       "      <td>HIGH</td>\n",
       "      <td>7.798</td>\n",
       "      <td>drugX</td>\n",
       "    </tr>\n",
       "    <tr>\n",
       "      <th>4</th>\n",
       "      <td>61</td>\n",
       "      <td>F</td>\n",
       "      <td>LOW</td>\n",
       "      <td>HIGH</td>\n",
       "      <td>18.043</td>\n",
       "      <td>DrugY</td>\n",
       "    </tr>\n",
       "  </tbody>\n",
       "</table>\n",
       "</div>"
      ],
      "text/plain": [
       "   Age Sex      BP Cholesterol  Na_to_K   Drug\n",
       "0   23   F    HIGH        HIGH   25.355  DrugY\n",
       "1   47   M     LOW        HIGH   13.093  drugC\n",
       "2   47   M     LOW        HIGH   10.114  drugC\n",
       "3   28   F  NORMAL        HIGH    7.798  drugX\n",
       "4   61   F     LOW        HIGH   18.043  DrugY"
      ]
     },
     "execution_count": 50,
     "metadata": {},
     "output_type": "execute_result"
    }
   ],
   "source": [
    "df_drug.head()"
   ]
  },
  {
   "cell_type": "markdown",
   "id": "7b55524c",
   "metadata": {
    "papermill": {
     "duration": 0.056709,
     "end_time": "2022-05-04T02:53:16.416150",
     "exception": false,
     "start_time": "2022-05-04T02:53:16.359441",
     "status": "completed"
    },
    "tags": []
   },
   "source": [
    "👉 Data type and checking null in dataset:"
   ]
  },
  {
   "cell_type": "code",
   "execution_count": 4,
   "id": "843912cf",
   "metadata": {
    "execution": {
     "iopub.execute_input": "2022-05-04T02:53:16.533336Z",
     "iopub.status.busy": "2022-05-04T02:53:16.532328Z",
     "iopub.status.idle": "2022-05-04T02:53:16.554669Z",
     "shell.execute_reply": "2022-05-04T02:53:16.554090Z",
     "shell.execute_reply.started": "2022-03-08T01:25:03.511066Z"
    },
    "id": "wxebQ3nmgaB0",
    "outputId": "af1044bc-7b6e-427b-a84e-f27302b254f3",
    "papermill": {
     "duration": 0.082029,
     "end_time": "2022-05-04T02:53:16.554807",
     "exception": false,
     "start_time": "2022-05-04T02:53:16.472778",
     "status": "completed"
    },
    "tags": []
   },
   "outputs": [
    {
     "name": "stdout",
     "output_type": "stream",
     "text": [
      "<class 'pandas.core.frame.DataFrame'>\n",
      "RangeIndex: 200 entries, 0 to 199\n",
      "Data columns (total 6 columns):\n",
      " #   Column       Non-Null Count  Dtype  \n",
      "---  ------       --------------  -----  \n",
      " 0   Age          200 non-null    int64  \n",
      " 1   Sex          200 non-null    object \n",
      " 2   BP           200 non-null    object \n",
      " 3   Cholesterol  200 non-null    object \n",
      " 4   Na_to_K      200 non-null    float64\n",
      " 5   Drug         200 non-null    object \n",
      "dtypes: float64(1), int64(1), object(4)\n",
      "memory usage: 9.5+ KB\n",
      "None\n"
     ]
    }
   ],
   "source": [
    "print(df_drug.info())"
   ]
  },
  {
   "cell_type": "markdown",
   "id": "860ca740",
   "metadata": {
    "id": "Q8UvtoqEiT99",
    "papermill": {
     "duration": 0.057812,
     "end_time": "2022-05-04T02:53:16.669450",
     "exception": false,
     "start_time": "2022-05-04T02:53:16.611638",
     "status": "completed"
    },
    "tags": []
   },
   "source": [
    "👉 From the results above, **there are no missing/null value** in this dataset"
   ]
  },
  {
   "cell_type": "markdown",
   "id": "f6279dae",
   "metadata": {
    "id": "PY0yjKQfgcar",
    "papermill": {
     "duration": 0.057495,
     "end_time": "2022-05-04T02:53:16.784589",
     "exception": false,
     "start_time": "2022-05-04T02:53:16.727094",
     "status": "completed"
    },
    "tags": []
   },
   "source": [
    "# 4. Initial Dataset Exploration 🔍\n",
    "👉 This section will explore raw dataset that has been imported."
   ]
  },
  {
   "cell_type": "markdown",
   "id": "a31947ac",
   "metadata": {
    "id": "SIh-WZeDhSUk",
    "papermill": {
     "duration": 0.057762,
     "end_time": "2022-05-04T02:53:16.899871",
     "exception": false,
     "start_time": "2022-05-04T02:53:16.842109",
     "status": "completed"
    },
    "tags": []
   },
   "source": [
    "## 4.1 Categorical Variables 📊"
   ]
  },
  {
   "cell_type": "code",
   "execution_count": 5,
   "id": "e050f655",
   "metadata": {
    "execution": {
     "iopub.execute_input": "2022-05-04T02:53:17.021656Z",
     "iopub.status.busy": "2022-05-04T02:53:17.020936Z",
     "iopub.status.idle": "2022-05-04T02:53:17.023487Z",
     "shell.execute_reply": "2022-05-04T02:53:17.023965Z",
     "shell.execute_reply.started": "2022-03-08T01:25:03.538492Z"
    },
    "id": "1wxlj91AgzBZ",
    "outputId": "3cdb9d5e-8de3-43d1-c455-ad225572e8fb",
    "papermill": {
     "duration": 0.066593,
     "end_time": "2022-05-04T02:53:17.024144",
     "exception": false,
     "start_time": "2022-05-04T02:53:16.957551",
     "status": "completed"
    },
    "tags": []
   },
   "outputs": [
    {
     "data": {
      "text/plain": [
       "Drug\n",
       "DrugY    91\n",
       "drugX    54\n",
       "drugA    23\n",
       "drugC    16\n",
       "drugB    16\n",
       "Name: count, dtype: int64"
      ]
     },
     "execution_count": 5,
     "metadata": {},
     "output_type": "execute_result"
    }
   ],
   "source": [
    "df_drug.Drug.value_counts()"
   ]
  },
  {
   "cell_type": "markdown",
   "id": "caa5dd68",
   "metadata": {
    "papermill": {
     "duration": 0.057562,
     "end_time": "2022-05-04T02:53:17.141493",
     "exception": false,
     "start_time": "2022-05-04T02:53:17.083931",
     "status": "completed"
    },
    "tags": []
   },
   "source": [
    "👉 It can be seen that from results above, DrugY has more amount than other types of drugs"
   ]
  },
  {
   "cell_type": "code",
   "execution_count": 6,
   "id": "bbef0bb9",
   "metadata": {
    "execution": {
     "iopub.execute_input": "2022-05-04T02:53:17.266669Z",
     "iopub.status.busy": "2022-05-04T02:53:17.265888Z",
     "iopub.status.idle": "2022-05-04T02:53:17.268554Z",
     "shell.execute_reply": "2022-05-04T02:53:17.269050Z",
     "shell.execute_reply.started": "2022-03-08T01:25:03.546771Z"
    },
    "id": "ztSS3uKSg-uU",
    "outputId": "14a73e4a-6bb8-424d-a3a6-db5b09956a07",
    "papermill": {
     "duration": 0.069027,
     "end_time": "2022-05-04T02:53:17.269219",
     "exception": false,
     "start_time": "2022-05-04T02:53:17.200192",
     "status": "completed"
    },
    "tags": []
   },
   "outputs": [
    {
     "data": {
      "text/plain": [
       "Sex\n",
       "M    104\n",
       "F     96\n",
       "Name: count, dtype: int64"
      ]
     },
     "execution_count": 6,
     "metadata": {},
     "output_type": "execute_result"
    }
   ],
   "source": [
    "df_drug.Sex.value_counts()"
   ]
  },
  {
   "cell_type": "markdown",
   "id": "07b15aad",
   "metadata": {
    "papermill": {
     "duration": 0.058057,
     "end_time": "2022-05-04T02:53:17.385194",
     "exception": false,
     "start_time": "2022-05-04T02:53:17.327137",
     "status": "completed"
    },
    "tags": []
   },
   "source": [
    "👉 The distribution of patient gender is balanced."
   ]
  },
  {
   "cell_type": "code",
   "execution_count": 7,
   "id": "9b0f21a5",
   "metadata": {
    "execution": {
     "iopub.execute_input": "2022-05-04T02:53:17.504646Z",
     "iopub.status.busy": "2022-05-04T02:53:17.503962Z",
     "iopub.status.idle": "2022-05-04T02:53:17.510342Z",
     "shell.execute_reply": "2022-05-04T02:53:17.510834Z",
     "shell.execute_reply.started": "2022-03-08T01:25:03.563382Z"
    },
    "id": "mZYP8-0uhDbn",
    "outputId": "675b0123-3911-4aa8-825d-643523cd5e6d",
    "papermill": {
     "duration": 0.068053,
     "end_time": "2022-05-04T02:53:17.511016",
     "exception": false,
     "start_time": "2022-05-04T02:53:17.442963",
     "status": "completed"
    },
    "tags": []
   },
   "outputs": [
    {
     "data": {
      "text/plain": [
       "BP\n",
       "HIGH      77\n",
       "LOW       64\n",
       "NORMAL    59\n",
       "Name: count, dtype: int64"
      ]
     },
     "execution_count": 7,
     "metadata": {},
     "output_type": "execute_result"
    }
   ],
   "source": [
    "df_drug.BP.value_counts()"
   ]
  },
  {
   "cell_type": "markdown",
   "id": "56a6a9c1",
   "metadata": {
    "papermill": {
     "duration": 0.05821,
     "end_time": "2022-05-04T02:53:17.627278",
     "exception": false,
     "start_time": "2022-05-04T02:53:17.569068",
     "status": "completed"
    },
    "tags": []
   },
   "source": [
    "👉 The distribution of blood pressure level is balanced."
   ]
  },
  {
   "cell_type": "code",
   "execution_count": 8,
   "id": "5752ef37",
   "metadata": {
    "execution": {
     "iopub.execute_input": "2022-05-04T02:53:17.747354Z",
     "iopub.status.busy": "2022-05-04T02:53:17.746682Z",
     "iopub.status.idle": "2022-05-04T02:53:17.753436Z",
     "shell.execute_reply": "2022-05-04T02:53:17.753894Z",
     "shell.execute_reply.started": "2022-03-08T01:25:03.57581Z"
    },
    "id": "trZ2eOuFhFXb",
    "outputId": "bb4ee139-66c3-4438-aa91-7340141d84ab",
    "papermill": {
     "duration": 0.068382,
     "end_time": "2022-05-04T02:53:17.754083",
     "exception": false,
     "start_time": "2022-05-04T02:53:17.685701",
     "status": "completed"
    },
    "tags": []
   },
   "outputs": [
    {
     "data": {
      "text/plain": [
       "Cholesterol\n",
       "HIGH      103\n",
       "NORMAL     97\n",
       "Name: count, dtype: int64"
      ]
     },
     "execution_count": 8,
     "metadata": {},
     "output_type": "execute_result"
    }
   ],
   "source": [
    "df_drug.Cholesterol.value_counts()"
   ]
  },
  {
   "cell_type": "markdown",
   "id": "f69b4170",
   "metadata": {
    "papermill": {
     "duration": 0.058173,
     "end_time": "2022-05-04T02:53:17.870825",
     "exception": false,
     "start_time": "2022-05-04T02:53:17.812652",
     "status": "completed"
    },
    "tags": []
   },
   "source": [
    "👉 The distribution of cholesterol level is balanced."
   ]
  },
  {
   "cell_type": "markdown",
   "id": "e20fcf08",
   "metadata": {
    "id": "pqvB06WYhV9o",
    "papermill": {
     "duration": 0.058361,
     "end_time": "2022-05-04T02:53:17.988171",
     "exception": false,
     "start_time": "2022-05-04T02:53:17.929810",
     "status": "completed"
    },
    "tags": []
   },
   "source": [
    "## 4.2 Numerical Variables 🔢\n",
    "👉 This section will show mean, count, std, min, max and others using describe function. The skewness value for each numerical variables will also shown in this section."
   ]
  },
  {
   "cell_type": "code",
   "execution_count": 9,
   "id": "842d6bb1",
   "metadata": {
    "execution": {
     "iopub.execute_input": "2022-05-04T02:53:18.112352Z",
     "iopub.status.busy": "2022-05-04T02:53:18.111629Z",
     "iopub.status.idle": "2022-05-04T02:53:18.129693Z",
     "shell.execute_reply": "2022-05-04T02:53:18.130304Z",
     "shell.execute_reply.started": "2022-03-08T01:25:03.593112Z"
    },
    "id": "1ugOd6wihXjS",
    "outputId": "3b43acfc-2a4b-42b7-9b24-3d9273a591b9",
    "papermill": {
     "duration": 0.080455,
     "end_time": "2022-05-04T02:53:18.130484",
     "exception": false,
     "start_time": "2022-05-04T02:53:18.050029",
     "status": "completed"
    },
    "tags": []
   },
   "outputs": [
    {
     "data": {
      "text/html": [
       "<div>\n",
       "<style scoped>\n",
       "    .dataframe tbody tr th:only-of-type {\n",
       "        vertical-align: middle;\n",
       "    }\n",
       "\n",
       "    .dataframe tbody tr th {\n",
       "        vertical-align: top;\n",
       "    }\n",
       "\n",
       "    .dataframe thead th {\n",
       "        text-align: right;\n",
       "    }\n",
       "</style>\n",
       "<table border=\"1\" class=\"dataframe\">\n",
       "  <thead>\n",
       "    <tr style=\"text-align: right;\">\n",
       "      <th></th>\n",
       "      <th>Age</th>\n",
       "      <th>Na_to_K</th>\n",
       "    </tr>\n",
       "  </thead>\n",
       "  <tbody>\n",
       "    <tr>\n",
       "      <th>count</th>\n",
       "      <td>200.000000</td>\n",
       "      <td>200.000000</td>\n",
       "    </tr>\n",
       "    <tr>\n",
       "      <th>mean</th>\n",
       "      <td>44.315000</td>\n",
       "      <td>16.084485</td>\n",
       "    </tr>\n",
       "    <tr>\n",
       "      <th>std</th>\n",
       "      <td>16.544315</td>\n",
       "      <td>7.223956</td>\n",
       "    </tr>\n",
       "    <tr>\n",
       "      <th>min</th>\n",
       "      <td>15.000000</td>\n",
       "      <td>6.269000</td>\n",
       "    </tr>\n",
       "    <tr>\n",
       "      <th>25%</th>\n",
       "      <td>31.000000</td>\n",
       "      <td>10.445500</td>\n",
       "    </tr>\n",
       "    <tr>\n",
       "      <th>50%</th>\n",
       "      <td>45.000000</td>\n",
       "      <td>13.936500</td>\n",
       "    </tr>\n",
       "    <tr>\n",
       "      <th>75%</th>\n",
       "      <td>58.000000</td>\n",
       "      <td>19.380000</td>\n",
       "    </tr>\n",
       "    <tr>\n",
       "      <th>max</th>\n",
       "      <td>74.000000</td>\n",
       "      <td>38.247000</td>\n",
       "    </tr>\n",
       "  </tbody>\n",
       "</table>\n",
       "</div>"
      ],
      "text/plain": [
       "              Age     Na_to_K\n",
       "count  200.000000  200.000000\n",
       "mean    44.315000   16.084485\n",
       "std     16.544315    7.223956\n",
       "min     15.000000    6.269000\n",
       "25%     31.000000   10.445500\n",
       "50%     45.000000   13.936500\n",
       "75%     58.000000   19.380000\n",
       "max     74.000000   38.247000"
      ]
     },
     "execution_count": 9,
     "metadata": {},
     "output_type": "execute_result"
    }
   ],
   "source": [
    "df_drug.describe()"
   ]
  },
  {
   "cell_type": "code",
   "execution_count": 10,
   "id": "e268a9e1",
   "metadata": {
    "execution": {
     "iopub.execute_input": "2022-05-04T02:53:18.251488Z",
     "iopub.status.busy": "2022-05-04T02:53:18.250854Z",
     "iopub.status.idle": "2022-05-04T02:53:18.257055Z",
     "shell.execute_reply": "2022-05-04T02:53:18.256536Z",
     "shell.execute_reply.started": "2022-03-08T01:25:03.622219Z"
    },
    "id": "BdcdYKewh3Qt",
    "outputId": "ae01b06a-9274-460e-fb0b-edd502c3c83f",
    "papermill": {
     "duration": 0.067738,
     "end_time": "2022-05-04T02:53:18.257199",
     "exception": false,
     "start_time": "2022-05-04T02:53:18.189461",
     "status": "completed"
    },
    "tags": []
   },
   "outputs": [
    {
     "name": "stdout",
     "output_type": "stream",
     "text": [
      "Age skewness:  0.03030835703000607\n"
     ]
    }
   ],
   "source": [
    "skewAge = df_drug.Age.skew(axis = 0, skipna = True)\n",
    "print('Age skewness: ', skewAge)"
   ]
  },
  {
   "cell_type": "code",
   "execution_count": 11,
   "id": "fd9c19cb",
   "metadata": {
    "execution": {
     "iopub.execute_input": "2022-05-04T02:53:18.382600Z",
     "iopub.status.busy": "2022-05-04T02:53:18.381856Z",
     "iopub.status.idle": "2022-05-04T02:53:18.384728Z",
     "shell.execute_reply": "2022-05-04T02:53:18.385264Z",
     "shell.execute_reply.started": "2022-03-08T01:25:03.630015Z"
    },
    "id": "RH84R0yyiD8o",
    "outputId": "dc45607b-1db3-49f7-d4da-1eb1ffc15a17",
    "papermill": {
     "duration": 0.068745,
     "end_time": "2022-05-04T02:53:18.385446",
     "exception": false,
     "start_time": "2022-05-04T02:53:18.316701",
     "status": "completed"
    },
    "tags": []
   },
   "outputs": [
    {
     "name": "stdout",
     "output_type": "stream",
     "text": [
      "Na to K skewness:  1.039341186028881\n"
     ]
    }
   ],
   "source": [
    "skewNatoK = df_drug.Na_to_K.skew(axis = 0, skipna = True)\n",
    "print('Na to K skewness: ', skewNatoK)"
   ]
  },
  {
   "cell_type": "code",
   "execution_count": 12,
   "id": "7ddf6a33",
   "metadata": {
    "execution": {
     "iopub.execute_input": "2022-05-04T02:53:18.508632Z",
     "iopub.status.busy": "2022-05-04T02:53:18.507903Z",
     "iopub.status.idle": "2022-05-04T02:53:18.803949Z",
     "shell.execute_reply": "2022-05-04T02:53:18.803421Z",
     "shell.execute_reply.started": "2022-03-08T01:25:03.649478Z"
    },
    "id": "x3x2nvtOlXmL",
    "outputId": "5fd63e16-3d93-47fa-fb4b-9ef9ab3c3da7",
    "papermill": {
     "duration": 0.35869,
     "end_time": "2022-05-04T02:53:18.804107",
     "exception": false,
     "start_time": "2022-05-04T02:53:18.445417",
     "status": "completed"
    },
    "tags": []
   },
   "outputs": [
    {
     "data": {
      "image/png": "[encoded data removed]",
      "text/plain": [
       "<Figure size 640x480 with 1 Axes>"
      ]
     },
     "metadata": {},
     "output_type": "display_data"
    }
   ],
   "source": [
    "sns.histplot(df_drug['Age']);"
   ]
  },
  {
   "cell_type": "code",
   "execution_count": 13,
   "id": "958118d2",
   "metadata": {
    "execution": {
     "iopub.execute_input": "2022-05-04T02:53:18.938872Z",
     "iopub.status.busy": "2022-05-04T02:53:18.937454Z",
     "iopub.status.idle": "2022-05-04T02:53:19.174592Z",
     "shell.execute_reply": "2022-05-04T02:53:19.174047Z",
     "shell.execute_reply.started": "2022-03-08T01:25:03.974898Z"
    },
    "id": "1Ntxk96ulaeQ",
    "outputId": "f2034c45-36b0-4189-f637-bd6e4009a7c7",
    "papermill": {
     "duration": 0.309413,
     "end_time": "2022-05-04T02:53:19.174740",
     "exception": false,
     "start_time": "2022-05-04T02:53:18.865327",
     "status": "completed"
    },
    "tags": []
   },
   "outputs": [
    {
     "data": {
      "image/png": "[encoded data removed]",
      "text/plain": [
       "<Figure size 500x500 with 1 Axes>"
      ]
     },
     "metadata": {},
     "output_type": "display_data"
    }
   ],
   "source": [
    "sns.displot(df_drug['Na_to_K']);"
   ]
  },
  {
   "cell_type": "markdown",
   "id": "33299d3d",
   "metadata": {
    "id": "eAQzoK6VkbbM",
    "papermill": {
     "duration": 0.061768,
     "end_time": "2022-05-04T02:53:19.298710",
     "exception": false,
     "start_time": "2022-05-04T02:53:19.236942",
     "status": "completed"
    },
    "tags": []
   },
   "source": [
    "👉The distribution of **'Age'** column is **symetric**, since the skewness value  between -0.5 and 0.5 <br>\n",
    "👉The distribution of **'Na_to_K'** column is **moderately skewed**, since the skewness value is ***between 0.5 and 1***. It can also be seen from the histogram for 'Na_to_K' column"
   ]
  },
  {
   "cell_type": "markdown",
   "id": "eebd8206",
   "metadata": {
    "id": "MWjpuZDGiNrb",
    "papermill": {
     "duration": 0.062761,
     "end_time": "2022-05-04T02:53:19.423839",
     "exception": false,
     "start_time": "2022-05-04T02:53:19.361078",
     "status": "completed"
    },
    "tags": []
   },
   "source": [
    "# 5. EDA 📊\n",
    "👉 This section will explore variables in the dataset using different various plots/charts."
   ]
  },
  {
   "cell_type": "markdown",
   "id": "60ab525d",
   "metadata": {
    "papermill": {
     "duration": 0.062967,
     "end_time": "2022-05-04T02:53:19.549496",
     "exception": false,
     "start_time": "2022-05-04T02:53:19.486529",
     "status": "completed"
    },
    "tags": []
   },
   "source": [
    "## 5.1 Drug Type Distribution 💊"
   ]
  },
  {
   "cell_type": "code",
   "execution_count": 14,
   "id": "a01e63d1",
   "metadata": {
    "execution": {
     "iopub.execute_input": "2022-05-04T02:53:19.724918Z",
     "iopub.status.busy": "2022-05-04T02:53:19.716349Z",
     "iopub.status.idle": "2022-05-04T02:53:19.923759Z",
     "shell.execute_reply": "2022-05-04T02:53:19.923099Z",
     "shell.execute_reply.started": "2022-03-08T01:25:04.226881Z"
    },
    "id": "3b7RwO3rnH-u",
    "outputId": "897c3176-e73e-40b4-f2f3-021f8aac0055",
    "papermill": {
     "duration": 0.311857,
     "end_time": "2022-05-04T02:53:19.923903",
     "exception": false,
     "start_time": "2022-05-04T02:53:19.612046",
     "status": "completed"
    },
    "tags": []
   },
   "outputs": [
    {
     "data": {
      "image/png": "[encoded data removed]",
      "text/plain": [
       "<Figure size 640x480 with 1 Axes>"
      ]
     },
     "metadata": {},
     "output_type": "display_data"
    }
   ],
   "source": [
    "sns.set_theme(style=\"darkgrid\")\n",
    "sns.countplot(y=\"Drug\", data=df_drug, palette=\"flare\")\n",
    "plt.ylabel('Drug Type')\n",
    "plt.xlabel('Total')\n",
    "plt.show()"
   ]
  },
  {
   "cell_type": "markdown",
   "id": "0cd51b83",
   "metadata": {
    "papermill": {
     "duration": 0.064585,
     "end_time": "2022-05-04T02:53:20.052131",
     "exception": false,
     "start_time": "2022-05-04T02:53:19.987546",
     "status": "completed"
    },
    "tags": []
   },
   "source": [
    "## 5.2 Gender Distribution 👫"
   ]
  },
  {
   "cell_type": "code",
   "execution_count": 15,
   "id": "9067bc0c",
   "metadata": {
    "execution": {
     "iopub.execute_input": "2022-05-04T02:53:20.189754Z",
     "iopub.status.busy": "2022-05-04T02:53:20.188702Z",
     "iopub.status.idle": "2022-05-04T02:53:20.366441Z",
     "shell.execute_reply": "2022-05-04T02:53:20.365536Z",
     "shell.execute_reply.started": "2022-03-08T01:25:04.472525Z"
    },
    "id": "FQktCCnppjoN",
    "outputId": "06d55514-5a7c-4b7e-8e5a-bf4bac3cf026",
    "papermill": {
     "duration": 0.251468,
     "end_time": "2022-05-04T02:53:20.366595",
     "exception": false,
     "start_time": "2022-05-04T02:53:20.115127",
     "status": "completed"
    },
    "tags": []
   },
   "outputs": [
    {
     "data": {
      "image/png": "[encoded data removed]",
      "text/plain": [
       "<Figure size 640x480 with 1 Axes>"
      ]
     },
     "metadata": {},
     "output_type": "display_data"
    }
   ],
   "source": [
    "sns.set_theme(style=\"darkgrid\")\n",
    "sns.countplot(x=\"Sex\", data=df_drug, palette=\"rocket\")\n",
    "plt.xlabel('Gender (F=Female, M=Male)')\n",
    "plt.ylabel('Total')\n",
    "plt.show()"
   ]
  },
  {
   "cell_type": "markdown",
   "id": "e27a6097",
   "metadata": {
    "papermill": {
     "duration": 0.063698,
     "end_time": "2022-05-04T02:53:20.493951",
     "exception": false,
     "start_time": "2022-05-04T02:53:20.430253",
     "status": "completed"
    },
    "tags": []
   },
   "source": [
    "## 5.3 Blood Pressure Distribution 🩸"
   ]
  },
  {
   "cell_type": "code",
   "execution_count": 16,
   "id": "e7df4e15",
   "metadata": {
    "execution": {
     "iopub.execute_input": "2022-05-04T02:53:20.626025Z",
     "iopub.status.busy": "2022-05-04T02:53:20.625073Z",
     "iopub.status.idle": "2022-05-04T02:53:20.872608Z",
     "shell.execute_reply": "2022-05-04T02:53:20.873112Z",
     "shell.execute_reply.started": "2022-03-08T01:25:04.605906Z"
    },
    "id": "qoN-IX-W2n2e",
    "outputId": "0ec37f75-4fca-440b-d03e-c14f62394b58",
    "papermill": {
     "duration": 0.315177,
     "end_time": "2022-05-04T02:53:20.873283",
     "exception": false,
     "start_time": "2022-05-04T02:53:20.558106",
     "status": "completed"
    },
    "tags": []
   },
   "outputs": [
    {
     "data": {
      "image/png": "[encoded data removed]",
      "text/plain": [
       "<Figure size 640x480 with 1 Axes>"
      ]
     },
     "metadata": {},
     "output_type": "display_data"
    }
   ],
   "source": [
    "sns.set_theme(style=\"darkgrid\")\n",
    "sns.countplot(y=\"BP\", data=df_drug, palette=\"crest\")\n",
    "plt.ylabel('Blood Pressure')\n",
    "plt.xlabel('Total')\n",
    "plt.show()"
   ]
  },
  {
   "cell_type": "markdown",
   "id": "38cabf42",
   "metadata": {
    "papermill": {
     "duration": 0.065226,
     "end_time": "2022-05-04T02:53:21.002747",
     "exception": false,
     "start_time": "2022-05-04T02:53:20.937521",
     "status": "completed"
    },
    "tags": []
   },
   "source": [
    "## 5.4 Cholesterol Distribution 🥛"
   ]
  },
  {
   "cell_type": "code",
   "execution_count": 17,
   "id": "32c5340e",
   "metadata": {
    "execution": {
     "iopub.execute_input": "2022-05-04T02:53:21.155557Z",
     "iopub.status.busy": "2022-05-04T02:53:21.143532Z",
     "iopub.status.idle": "2022-05-04T02:53:21.322182Z",
     "shell.execute_reply": "2022-05-04T02:53:21.321627Z",
     "shell.execute_reply.started": "2022-03-08T01:25:04.880578Z"
    },
    "id": "8knVYttd26h1",
    "outputId": "631738e6-1682-4751-fab1-f22dd5e7480e",
    "papermill": {
     "duration": 0.251628,
     "end_time": "2022-05-04T02:53:21.322329",
     "exception": false,
     "start_time": "2022-05-04T02:53:21.070701",
     "status": "completed"
    },
    "tags": []
   },
   "outputs": [
    {
     "data": {
      "image/png": "[encoded data removed]",
      "text/plain": [
       "<Figure size 640x480 with 1 Axes>"
      ]
     },
     "metadata": {},
     "output_type": "display_data"
    }
   ],
   "source": [
    "sns.set_theme(style=\"darkgrid\")\n",
    "sns.countplot(x=\"Cholesterol\", data=df_drug, palette=\"magma\")\n",
    "plt.xlabel('Blood Pressure')\n",
    "plt.ylabel('Total')\n",
    "plt.show()"
   ]
  },
  {
   "cell_type": "markdown",
   "id": "ff352dc3",
   "metadata": {
    "papermill": {
     "duration": 0.065165,
     "end_time": "2022-05-04T02:53:21.453075",
     "exception": false,
     "start_time": "2022-05-04T02:53:21.387910",
     "status": "completed"
    },
    "tags": []
   },
   "source": [
    "## 5.5 Gender Distribution based on Drug Type 👫💊"
   ]
  },
  {
   "cell_type": "code",
   "execution_count": 18,
   "id": "87415cf4",
   "metadata": {
    "execution": {
     "iopub.execute_input": "2022-05-04T02:53:21.591812Z",
     "iopub.status.busy": "2022-05-04T02:53:21.591101Z",
     "iopub.status.idle": "2022-05-04T02:53:21.996703Z",
     "shell.execute_reply": "2022-05-04T02:53:21.996192Z",
     "shell.execute_reply.started": "2022-03-08T01:25:05.069947Z"
    },
    "id": "T47gXdj9pxD8",
    "outputId": "613b2fc7-715a-4d1e-b1c6-97c8aa8188c0",
    "papermill": {
     "duration": 0.47819,
     "end_time": "2022-05-04T02:53:21.996859",
     "exception": false,
     "start_time": "2022-05-04T02:53:21.518669",
     "status": "completed"
    },
    "tags": []
   },
   "outputs": [
    {
     "data": {
      "image/png": "[encoded data removed]",
      "text/plain": [
       "<Figure size 1200x500 with 1 Axes>"
      ]
     },
     "metadata": {},
     "output_type": "display_data"
    }
   ],
   "source": [
    "pd.crosstab(df_drug.Sex,df_drug.Drug).plot(kind=\"bar\",figsize=(12,5),color=['#003f5c','#ffa600','#58508d','#bc5090','#ff6361'])\n",
    "plt.title('Gender distribution based on Drug type')\n",
    "plt.xlabel('Gender')\n",
    "plt.xticks(rotation=0)\n",
    "plt.ylabel('Frequency')\n",
    "plt.show()"
   ]
  },
  {
   "cell_type": "markdown",
   "id": "d8cb41b9",
   "metadata": {
    "papermill": {
     "duration": 0.06602,
     "end_time": "2022-05-04T02:53:22.130021",
     "exception": false,
     "start_time": "2022-05-04T02:53:22.064001",
     "status": "completed"
    },
    "tags": []
   },
   "source": [
    "## 5.6 Blood Pressure Distribution based on Cholesetrol 🩸🥛"
   ]
  },
  {
   "cell_type": "code",
   "execution_count": 19,
   "id": "c8bc5489",
   "metadata": {
    "execution": {
     "iopub.execute_input": "2022-05-04T02:53:22.269081Z",
     "iopub.status.busy": "2022-05-04T02:53:22.268387Z",
     "iopub.status.idle": "2022-05-04T02:53:22.545829Z",
     "shell.execute_reply": "2022-05-04T02:53:22.546315Z",
     "shell.execute_reply.started": "2022-03-08T01:25:05.486231Z"
    },
    "id": "bg01FIf75DRW",
    "outputId": "8229c516-627c-417c-f202-75eada15c5ed",
    "papermill": {
     "duration": 0.349573,
     "end_time": "2022-05-04T02:53:22.546494",
     "exception": false,
     "start_time": "2022-05-04T02:53:22.196921",
     "status": "completed"
    },
    "tags": []
   },
   "outputs": [
    {
     "data": {
      "image/png": "[encoded data removed]",
      "text/plain": [
       "<Figure size 1500x600 with 1 Axes>"
      ]
     },
     "metadata": {},
     "output_type": "display_data"
    }
   ],
   "source": [
    "pd.crosstab(df_drug.BP,df_drug.Cholesterol).plot(kind=\"bar\",figsize=(15,6),color=['#6929c4','#1192e8'])\n",
    "plt.title('Blood Pressure distribution based on Cholesterol')\n",
    "plt.xlabel('Blood Pressure')\n",
    "plt.xticks(rotation=0)\n",
    "plt.ylabel('Frequency')\n",
    "plt.show()"
   ]
  },
  {
   "cell_type": "markdown",
   "id": "7675cc6e",
   "metadata": {
    "papermill": {
     "duration": 0.067148,
     "end_time": "2022-05-04T02:53:22.680625",
     "exception": false,
     "start_time": "2022-05-04T02:53:22.613477",
     "status": "completed"
    },
    "tags": []
   },
   "source": [
    "## 5.7 Sodium to Potassium Distribution based on Gender and Age 🧪👫👴"
   ]
  },
  {
   "cell_type": "code",
   "execution_count": 20,
   "id": "9ed580f1",
   "metadata": {
    "execution": {
     "iopub.execute_input": "2022-05-04T02:53:22.861221Z",
     "iopub.status.busy": "2022-05-04T02:53:22.859970Z",
     "iopub.status.idle": "2022-05-04T02:53:23.200939Z",
     "shell.execute_reply": "2022-05-04T02:53:23.200359Z",
     "shell.execute_reply.started": "2022-03-08T01:25:05.776497Z"
    },
    "id": "Lz49pj9X7ZTS",
    "outputId": "6ec43790-0bbd-40b6-f86d-1d582b34f11a",
    "papermill": {
     "duration": 0.441498,
     "end_time": "2022-05-04T02:53:23.201115",
     "exception": false,
     "start_time": "2022-05-04T02:53:22.759617",
     "status": "completed"
    },
    "tags": []
   },
   "outputs": [
    {
     "data": {
      "image/png": "[encoded data removed]",
      "text/plain": [
       "<Figure size 640x480 with 1 Axes>"
      ]
     },
     "metadata": {},
     "output_type": "display_data"
    }
   ],
   "source": [
    "plt.scatter(x=df_drug.Age[df_drug.Sex=='F'], y=df_drug.Na_to_K[(df_drug.Sex=='F')], c=\"Blue\")\n",
    "plt.scatter(x=df_drug.Age[df_drug.Sex=='M'], y=df_drug.Na_to_K[(df_drug.Sex=='M')], c=\"Orange\")\n",
    "plt.legend([\"Female\", \"Male\"])\n",
    "plt.xlabel(\"Age\")\n",
    "plt.ylabel(\"Na_to_K\")\n",
    "plt.show()"
   ]
  },
  {
   "cell_type": "markdown",
   "id": "4a2073da",
   "metadata": {
    "id": "vwJ_hPlzl32j",
    "papermill": {
     "duration": 0.072234,
     "end_time": "2022-05-04T02:53:23.346483",
     "exception": false,
     "start_time": "2022-05-04T02:53:23.274249",
     "status": "completed"
    },
    "tags": []
   },
   "source": [
    "# 6. Dataset Preparation ⚙\n",
    "👉 This section will prepare the dataset before building the machine learning models."
   ]
  },
  {
   "cell_type": "markdown",
   "id": "ea6668c3",
   "metadata": {
    "id": "ozM4xmd5mSrn",
    "papermill": {
     "duration": 0.069097,
     "end_time": "2022-05-04T02:53:23.486753",
     "exception": false,
     "start_time": "2022-05-04T02:53:23.417656",
     "status": "completed"
    },
    "tags": []
   },
   "source": [
    "## 6.1 Data Binning 🚮"
   ]
  },
  {
   "cell_type": "markdown",
   "id": "dcaed989",
   "metadata": {
    "id": "NOZNMiUsm058",
    "papermill": {
     "duration": 0.071107,
     "end_time": "2022-05-04T02:53:23.627940",
     "exception": false,
     "start_time": "2022-05-04T02:53:23.556833",
     "status": "completed"
    },
    "tags": []
   },
   "source": [
    "### 6.1.1 Age 👴\n",
    "👉 The age will be divided into **7 age categories**:\n",
    "*  Below 20 y.o.\n",
    "*  20 - 29 y.o.\n",
    "*  30 - 39 y.o.\n",
    "*  40 - 49 y.o.\n",
    "*  50 - 59 y.o.\n",
    "*  60 - 69 y.o.\n",
    "*  Above 70."
   ]
  },
  {
   "cell_type": "code",
   "execution_count": 21,
   "id": "4b44dea1",
   "metadata": {
    "execution": {
     "iopub.execute_input": "2022-05-04T02:53:23.774584Z",
     "iopub.status.busy": "2022-05-04T02:53:23.767281Z",
     "iopub.status.idle": "2022-05-04T02:53:23.776406Z",
     "shell.execute_reply": "2022-05-04T02:53:23.776852Z",
     "shell.execute_reply.started": "2022-03-08T01:25:06.125239Z"
    },
    "id": "CDg1nDQamzvu",
    "papermill": {
     "duration": 0.080917,
     "end_time": "2022-05-04T02:53:23.777051",
     "exception": false,
     "start_time": "2022-05-04T02:53:23.696134",
     "status": "completed"
    },
    "tags": []
   },
   "outputs": [],
   "source": [
    "bin_age = [0, 19, 29, 39, 49, 59, 69, 80]\n",
    "category_age = ['<20s', '20s', '30s', '40s', '50s', '60s', '>60s']\n",
    "df_drug['Age_binned'] = pd.cut(df_drug['Age'], bins=bin_age, labels=category_age)\n",
    "df_drug = df_drug.drop(['Age'], axis = 1)"
   ]
  },
  {
   "cell_type": "markdown",
   "id": "ed6970c9",
   "metadata": {
    "id": "3CcOt0Ilm4C8",
    "papermill": {
     "duration": 0.069649,
     "end_time": "2022-05-04T02:53:23.915013",
     "exception": false,
     "start_time": "2022-05-04T02:53:23.845364",
     "status": "completed"
    },
    "tags": []
   },
   "source": [
    "### 6.1.2 Na_to_K 🧪\n",
    "👉 The chemical ratio will be divided into **4 categories**:\n",
    "*  Below 10.\n",
    "*  10 - 20.\n",
    "*  20 - 30.\n",
    "*  Above 30."
   ]
  },
  {
   "cell_type": "code",
   "execution_count": 22,
   "id": "fb471fb8",
   "metadata": {
    "execution": {
     "iopub.execute_input": "2022-05-04T02:53:24.064225Z",
     "iopub.status.busy": "2022-05-04T02:53:24.057040Z",
     "iopub.status.idle": "2022-05-04T02:53:24.066950Z",
     "shell.execute_reply": "2022-05-04T02:53:24.066286Z",
     "shell.execute_reply.started": "2022-03-08T01:25:06.13646Z"
    },
    "id": "bhoBfPl3m9zN",
    "papermill": {
     "duration": 0.082757,
     "end_time": "2022-05-04T02:53:24.067126",
     "exception": false,
     "start_time": "2022-05-04T02:53:23.984369",
     "status": "completed"
    },
    "tags": []
   },
   "outputs": [],
   "source": [
    "bin_NatoK = [0, 9, 19, 29, 50]\n",
    "category_NatoK = ['<10', '10-20', '20-30', '>30']\n",
    "df_drug['Na_to_K_binned'] = pd.cut(df_drug['Na_to_K'], bins=bin_NatoK, labels=category_NatoK)\n",
    "df_drug = df_drug.drop(['Na_to_K'], axis = 1)"
   ]
  },
  {
   "cell_type": "markdown",
   "id": "6acd0bc0",
   "metadata": {
    "id": "ts4FHhNuyZ3G",
    "papermill": {
     "duration": 0.068402,
     "end_time": "2022-05-04T02:53:24.204559",
     "exception": false,
     "start_time": "2022-05-04T02:53:24.136157",
     "status": "completed"
    },
    "tags": []
   },
   "source": [
    "## 6.2 Splitting the dataset 🪓\n",
    "👉 The dataset will be split into **70% training and 30% testing**."
   ]
  },
  {
   "cell_type": "code",
   "execution_count": 23,
   "id": "26cb08bb",
   "metadata": {
    "execution": {
     "iopub.execute_input": "2022-05-04T02:53:24.345430Z",
     "iopub.status.busy": "2022-05-04T02:53:24.344798Z",
     "iopub.status.idle": "2022-05-04T02:53:24.504186Z",
     "shell.execute_reply": "2022-05-04T02:53:24.503420Z",
     "shell.execute_reply.started": "2022-03-08T01:25:06.154675Z"
    },
    "id": "8b9Slzpdycfy",
    "papermill": {
     "duration": 0.231244,
     "end_time": "2022-05-04T02:53:24.504359",
     "exception": false,
     "start_time": "2022-05-04T02:53:24.273115",
     "status": "completed"
    },
    "tags": []
   },
   "outputs": [],
   "source": [
    "from sklearn.metrics import confusion_matrix\n",
    "from sklearn.metrics import classification_report"
   ]
  },
  {
   "cell_type": "code",
   "execution_count": 24,
   "id": "c091b1b7",
   "metadata": {
    "execution": {
     "iopub.execute_input": "2022-05-04T02:53:24.647052Z",
     "iopub.status.busy": "2022-05-04T02:53:24.646375Z",
     "iopub.status.idle": "2022-05-04T02:53:24.667063Z",
     "shell.execute_reply": "2022-05-04T02:53:24.667556Z",
     "shell.execute_reply.started": "2022-03-08T01:25:06.328803Z"
    },
    "id": "8Ryn2U0Syvo5",
    "papermill": {
     "duration": 0.095304,
     "end_time": "2022-05-04T02:53:24.667742",
     "exception": false,
     "start_time": "2022-05-04T02:53:24.572438",
     "status": "completed"
    },
    "tags": []
   },
   "outputs": [],
   "source": [
    "X = df_drug.drop([\"Drug\"], axis=1)\n",
    "y = df_drug[\"Drug\"]\n",
    "\n",
    "from sklearn.model_selection import train_test_split\n",
    "X_train, X_test, y_train, y_test = train_test_split(X, y, test_size = 0.3, random_state = 0)"
   ]
  },
  {
   "cell_type": "markdown",
   "id": "fa2f50fb",
   "metadata": {
    "id": "pUab4khX2beO",
    "papermill": {
     "duration": 0.071246,
     "end_time": "2022-05-04T02:53:24.809880",
     "exception": false,
     "start_time": "2022-05-04T02:53:24.738634",
     "status": "completed"
    },
    "tags": []
   },
   "source": [
    "## 6.3 Feature Engineering 🔧\n",
    "👉 The FE method that used is **one-hot encoding**, which is **transforming categorical variables into a form that could be provided to ML algorithms to do a better prediction**.\n",
    "\n",
    "##### >Creating new variables that aren't in a dataset."
   ]
  },
  {
   "cell_type": "code",
   "execution_count": 25,
   "id": "009162ef",
   "metadata": {
    "execution": {
     "iopub.execute_input": "2022-05-04T02:53:24.953841Z",
     "iopub.status.busy": "2022-05-04T02:53:24.952857Z",
     "iopub.status.idle": "2022-05-04T02:53:24.968415Z",
     "shell.execute_reply": "2022-05-04T02:53:24.968934Z",
     "shell.execute_reply.started": "2022-03-08T01:25:06.355628Z"
    },
    "id": "E_RiMVZg2bH_",
    "papermill": {
     "duration": 0.089853,
     "end_time": "2022-05-04T02:53:24.969119",
     "exception": false,
     "start_time": "2022-05-04T02:53:24.879266",
     "status": "completed"
    },
    "tags": []
   },
   "outputs": [],
   "source": [
    "X_train = pd.get_dummies(X_train)\n",
    "X_test = pd.get_dummies(X_test)"
   ]
  },
  {
   "cell_type": "code",
   "execution_count": 26,
   "id": "bab5b853",
   "metadata": {
    "execution": {
     "iopub.execute_input": "2022-05-04T02:53:25.111357Z",
     "iopub.status.busy": "2022-05-04T02:53:25.110387Z",
     "iopub.status.idle": "2022-05-04T02:53:25.125401Z",
     "shell.execute_reply": "2022-05-04T02:53:25.125961Z",
     "shell.execute_reply.started": "2022-03-08T01:25:06.375644Z"
    },
    "papermill": {
     "duration": 0.088449,
     "end_time": "2022-05-04T02:53:25.126150",
     "exception": false,
     "start_time": "2022-05-04T02:53:25.037701",
     "status": "completed"
    },
    "tags": []
   },
   "outputs": [
    {
     "data": {
      "text/html": [
       "<div>\n",
       "<style scoped>\n",
       "    .dataframe tbody tr th:only-of-type {\n",
       "        vertical-align: middle;\n",
       "    }\n",
       "\n",
       "    .dataframe tbody tr th {\n",
       "        vertical-align: top;\n",
       "    }\n",
       "\n",
       "    .dataframe thead th {\n",
       "        text-align: right;\n",
       "    }\n",
       "</style>\n",
       "<table border=\"1\" class=\"dataframe\">\n",
       "  <thead>\n",
       "    <tr style=\"text-align: right;\">\n",
       "      <th></th>\n",
       "      <th>Sex_F</th>\n",
       "      <th>Sex_M</th>\n",
       "      <th>BP_HIGH</th>\n",
       "      <th>BP_LOW</th>\n",
       "      <th>BP_NORMAL</th>\n",
       "      <th>Cholesterol_HIGH</th>\n",
       "      <th>Cholesterol_NORMAL</th>\n",
       "      <th>Age_binned_&lt;20s</th>\n",
       "      <th>Age_binned_20s</th>\n",
       "      <th>Age_binned_30s</th>\n",
       "      <th>Age_binned_40s</th>\n",
       "      <th>Age_binned_50s</th>\n",
       "      <th>Age_binned_60s</th>\n",
       "      <th>Age_binned_&gt;60s</th>\n",
       "      <th>Na_to_K_binned_&lt;10</th>\n",
       "      <th>Na_to_K_binned_10-20</th>\n",
       "      <th>Na_to_K_binned_20-30</th>\n",
       "      <th>Na_to_K_binned_&gt;30</th>\n",
       "    </tr>\n",
       "  </thead>\n",
       "  <tbody>\n",
       "    <tr>\n",
       "      <th>131</th>\n",
       "      <td>False</td>\n",
       "      <td>True</td>\n",
       "      <td>False</td>\n",
       "      <td>True</td>\n",
       "      <td>False</td>\n",
       "      <td>False</td>\n",
       "      <td>True</td>\n",
       "      <td>False</td>\n",
       "      <td>False</td>\n",
       "      <td>False</td>\n",
       "      <td>False</td>\n",
       "      <td>True</td>\n",
       "      <td>False</td>\n",
       "      <td>False</td>\n",
       "      <td>False</td>\n",
       "      <td>False</td>\n",
       "      <td>False</td>\n",
       "      <td>True</td>\n",
       "    </tr>\n",
       "    <tr>\n",
       "      <th>96</th>\n",
       "      <td>True</td>\n",
       "      <td>False</td>\n",
       "      <td>False</td>\n",
       "      <td>True</td>\n",
       "      <td>False</td>\n",
       "      <td>True</td>\n",
       "      <td>False</td>\n",
       "      <td>False</td>\n",
       "      <td>False</td>\n",
       "      <td>False</td>\n",
       "      <td>False</td>\n",
       "      <td>True</td>\n",
       "      <td>False</td>\n",
       "      <td>False</td>\n",
       "      <td>False</td>\n",
       "      <td>False</td>\n",
       "      <td>False</td>\n",
       "      <td>True</td>\n",
       "    </tr>\n",
       "    <tr>\n",
       "      <th>181</th>\n",
       "      <td>True</td>\n",
       "      <td>False</td>\n",
       "      <td>False</td>\n",
       "      <td>False</td>\n",
       "      <td>True</td>\n",
       "      <td>True</td>\n",
       "      <td>False</td>\n",
       "      <td>False</td>\n",
       "      <td>False</td>\n",
       "      <td>False</td>\n",
       "      <td>False</td>\n",
       "      <td>True</td>\n",
       "      <td>False</td>\n",
       "      <td>False</td>\n",
       "      <td>False</td>\n",
       "      <td>True</td>\n",
       "      <td>False</td>\n",
       "      <td>False</td>\n",
       "    </tr>\n",
       "    <tr>\n",
       "      <th>19</th>\n",
       "      <td>True</td>\n",
       "      <td>False</td>\n",
       "      <td>True</td>\n",
       "      <td>False</td>\n",
       "      <td>False</td>\n",
       "      <td>False</td>\n",
       "      <td>True</td>\n",
       "      <td>False</td>\n",
       "      <td>False</td>\n",
       "      <td>True</td>\n",
       "      <td>False</td>\n",
       "      <td>False</td>\n",
       "      <td>False</td>\n",
       "      <td>False</td>\n",
       "      <td>False</td>\n",
       "      <td>False</td>\n",
       "      <td>True</td>\n",
       "      <td>False</td>\n",
       "    </tr>\n",
       "    <tr>\n",
       "      <th>153</th>\n",
       "      <td>True</td>\n",
       "      <td>False</td>\n",
       "      <td>False</td>\n",
       "      <td>True</td>\n",
       "      <td>False</td>\n",
       "      <td>False</td>\n",
       "      <td>True</td>\n",
       "      <td>False</td>\n",
       "      <td>False</td>\n",
       "      <td>False</td>\n",
       "      <td>False</td>\n",
       "      <td>False</td>\n",
       "      <td>False</td>\n",
       "      <td>True</td>\n",
       "      <td>False</td>\n",
       "      <td>True</td>\n",
       "      <td>False</td>\n",
       "      <td>False</td>\n",
       "    </tr>\n",
       "  </tbody>\n",
       "</table>\n",
       "</div>"
      ],
      "text/plain": [
       "     Sex_F  Sex_M  BP_HIGH  BP_LOW  BP_NORMAL  Cholesterol_HIGH  \\\n",
       "131  False   True    False    True      False             False   \n",
       "96    True  False    False    True      False              True   \n",
       "181   True  False    False   False       True              True   \n",
       "19    True  False     True   False      False             False   \n",
       "153   True  False    False    True      False             False   \n",
       "\n",
       "     Cholesterol_NORMAL  Age_binned_<20s  Age_binned_20s  Age_binned_30s  \\\n",
       "131                True            False           False           False   \n",
       "96                False            False           False           False   \n",
       "181               False            False           False           False   \n",
       "19                 True            False           False            True   \n",
       "153                True            False           False           False   \n",
       "\n",
       "     Age_binned_40s  Age_binned_50s  Age_binned_60s  Age_binned_>60s  \\\n",
       "131           False            True           False            False   \n",
       "96            False            True           False            False   \n",
       "181           False            True           False            False   \n",
       "19            False           False           False            False   \n",
       "153           False           False           False             True   \n",
       "\n",
       "     Na_to_K_binned_<10  Na_to_K_binned_10-20  Na_to_K_binned_20-30  \\\n",
       "131               False                 False                 False   \n",
       "96                False                 False                 False   \n",
       "181               False                  True                 False   \n",
       "19                False                 False                  True   \n",
       "153               False                  True                 False   \n",
       "\n",
       "     Na_to_K_binned_>30  \n",
       "131                True  \n",
       "96                 True  \n",
       "181               False  \n",
       "19                False  \n",
       "153               False  "
      ]
     },
     "execution_count": 26,
     "metadata": {},
     "output_type": "execute_result"
    }
   ],
   "source": [
    "X_train.head()"
   ]
  },
  {
   "cell_type": "code",
   "execution_count": 27,
   "id": "90477859",
   "metadata": {
    "execution": {
     "iopub.execute_input": "2022-05-04T02:53:25.267751Z",
     "iopub.status.busy": "2022-05-04T02:53:25.266782Z",
     "iopub.status.idle": "2022-05-04T02:53:25.282213Z",
     "shell.execute_reply": "2022-05-04T02:53:25.281660Z",
     "shell.execute_reply.started": "2022-03-08T01:25:06.391737Z"
    },
    "papermill": {
     "duration": 0.08758,
     "end_time": "2022-05-04T02:53:25.282363",
     "exception": false,
     "start_time": "2022-05-04T02:53:25.194783",
     "status": "completed"
    },
    "tags": []
   },
   "outputs": [
    {
     "data": {
      "text/html": [
       "<div>\n",
       "<style scoped>\n",
       "    .dataframe tbody tr th:only-of-type {\n",
       "        vertical-align: middle;\n",
       "    }\n",
       "\n",
       "    .dataframe tbody tr th {\n",
       "        vertical-align: top;\n",
       "    }\n",
       "\n",
       "    .dataframe thead th {\n",
       "        text-align: right;\n",
       "    }\n",
       "</style>\n",
       "<table border=\"1\" class=\"dataframe\">\n",
       "  <thead>\n",
       "    <tr style=\"text-align: right;\">\n",
       "      <th></th>\n",
       "      <th>Sex_F</th>\n",
       "      <th>Sex_M</th>\n",
       "      <th>BP_HIGH</th>\n",
       "      <th>BP_LOW</th>\n",
       "      <th>BP_NORMAL</th>\n",
       "      <th>Cholesterol_HIGH</th>\n",
       "      <th>Cholesterol_NORMAL</th>\n",
       "      <th>Age_binned_&lt;20s</th>\n",
       "      <th>Age_binned_20s</th>\n",
       "      <th>Age_binned_30s</th>\n",
       "      <th>Age_binned_40s</th>\n",
       "      <th>Age_binned_50s</th>\n",
       "      <th>Age_binned_60s</th>\n",
       "      <th>Age_binned_&gt;60s</th>\n",
       "      <th>Na_to_K_binned_&lt;10</th>\n",
       "      <th>Na_to_K_binned_10-20</th>\n",
       "      <th>Na_to_K_binned_20-30</th>\n",
       "      <th>Na_to_K_binned_&gt;30</th>\n",
       "    </tr>\n",
       "  </thead>\n",
       "  <tbody>\n",
       "    <tr>\n",
       "      <th>18</th>\n",
       "      <td>False</td>\n",
       "      <td>True</td>\n",
       "      <td>False</td>\n",
       "      <td>True</td>\n",
       "      <td>False</td>\n",
       "      <td>True</td>\n",
       "      <td>False</td>\n",
       "      <td>False</td>\n",
       "      <td>True</td>\n",
       "      <td>False</td>\n",
       "      <td>False</td>\n",
       "      <td>False</td>\n",
       "      <td>False</td>\n",
       "      <td>False</td>\n",
       "      <td>True</td>\n",
       "      <td>False</td>\n",
       "      <td>False</td>\n",
       "      <td>False</td>\n",
       "    </tr>\n",
       "    <tr>\n",
       "      <th>170</th>\n",
       "      <td>True</td>\n",
       "      <td>False</td>\n",
       "      <td>False</td>\n",
       "      <td>False</td>\n",
       "      <td>True</td>\n",
       "      <td>True</td>\n",
       "      <td>False</td>\n",
       "      <td>False</td>\n",
       "      <td>True</td>\n",
       "      <td>False</td>\n",
       "      <td>False</td>\n",
       "      <td>False</td>\n",
       "      <td>False</td>\n",
       "      <td>False</td>\n",
       "      <td>False</td>\n",
       "      <td>True</td>\n",
       "      <td>False</td>\n",
       "      <td>False</td>\n",
       "    </tr>\n",
       "    <tr>\n",
       "      <th>107</th>\n",
       "      <td>False</td>\n",
       "      <td>True</td>\n",
       "      <td>False</td>\n",
       "      <td>True</td>\n",
       "      <td>False</td>\n",
       "      <td>True</td>\n",
       "      <td>False</td>\n",
       "      <td>False</td>\n",
       "      <td>False</td>\n",
       "      <td>False</td>\n",
       "      <td>True</td>\n",
       "      <td>False</td>\n",
       "      <td>False</td>\n",
       "      <td>False</td>\n",
       "      <td>False</td>\n",
       "      <td>False</td>\n",
       "      <td>True</td>\n",
       "      <td>False</td>\n",
       "    </tr>\n",
       "    <tr>\n",
       "      <th>98</th>\n",
       "      <td>False</td>\n",
       "      <td>True</td>\n",
       "      <td>True</td>\n",
       "      <td>False</td>\n",
       "      <td>False</td>\n",
       "      <td>False</td>\n",
       "      <td>True</td>\n",
       "      <td>False</td>\n",
       "      <td>True</td>\n",
       "      <td>False</td>\n",
       "      <td>False</td>\n",
       "      <td>False</td>\n",
       "      <td>False</td>\n",
       "      <td>False</td>\n",
       "      <td>False</td>\n",
       "      <td>False</td>\n",
       "      <td>False</td>\n",
       "      <td>True</td>\n",
       "    </tr>\n",
       "    <tr>\n",
       "      <th>177</th>\n",
       "      <td>False</td>\n",
       "      <td>True</td>\n",
       "      <td>False</td>\n",
       "      <td>False</td>\n",
       "      <td>True</td>\n",
       "      <td>True</td>\n",
       "      <td>False</td>\n",
       "      <td>False</td>\n",
       "      <td>True</td>\n",
       "      <td>False</td>\n",
       "      <td>False</td>\n",
       "      <td>False</td>\n",
       "      <td>False</td>\n",
       "      <td>False</td>\n",
       "      <td>False</td>\n",
       "      <td>False</td>\n",
       "      <td>True</td>\n",
       "      <td>False</td>\n",
       "    </tr>\n",
       "  </tbody>\n",
       "</table>\n",
       "</div>"
      ],
      "text/plain": [
       "     Sex_F  Sex_M  BP_HIGH  BP_LOW  BP_NORMAL  Cholesterol_HIGH  \\\n",
       "18   False   True    False    True      False              True   \n",
       "170   True  False    False   False       True              True   \n",
       "107  False   True    False    True      False              True   \n",
       "98   False   True     True   False      False             False   \n",
       "177  False   True    False   False       True              True   \n",
       "\n",
       "     Cholesterol_NORMAL  Age_binned_<20s  Age_binned_20s  Age_binned_30s  \\\n",
       "18                False            False            True           False   \n",
       "170               False            False            True           False   \n",
       "107               False            False           False           False   \n",
       "98                 True            False            True           False   \n",
       "177               False            False            True           False   \n",
       "\n",
       "     Age_binned_40s  Age_binned_50s  Age_binned_60s  Age_binned_>60s  \\\n",
       "18            False           False           False            False   \n",
       "170           False           False           False            False   \n",
       "107            True           False           False            False   \n",
       "98            False           False           False            False   \n",
       "177           False           False           False            False   \n",
       "\n",
       "     Na_to_K_binned_<10  Na_to_K_binned_10-20  Na_to_K_binned_20-30  \\\n",
       "18                 True                 False                 False   \n",
       "170               False                  True                 False   \n",
       "107               False                 False                  True   \n",
       "98                False                 False                 False   \n",
       "177               False                 False                  True   \n",
       "\n",
       "     Na_to_K_binned_>30  \n",
       "18                False  \n",
       "170               False  \n",
       "107               False  \n",
       "98                 True  \n",
       "177               False  "
      ]
     },
     "execution_count": 27,
     "metadata": {},
     "output_type": "execute_result"
    }
   ],
   "source": [
    "X_test.head()"
   ]
  },
  {
   "cell_type": "markdown",
   "id": "b6ce48bf",
   "metadata": {
    "id": "Y17SOiU8kz5K",
    "papermill": {
     "duration": 0.070309,
     "end_time": "2022-05-04T02:53:25.424375",
     "exception": false,
     "start_time": "2022-05-04T02:53:25.354066",
     "status": "completed"
    },
    "tags": []
   },
   "source": [
    "## 6.4 SMOTE Technique ⚒\n",
    "\n",
    "👉 Since the number of 'DrugY' is more than other types of drugs, **oversampling is carried out to avoid overfitting**."
   ]
  },
  {
   "cell_type": "code",
   "execution_count": 28,
   "id": "ee2b71df",
   "metadata": {
    "collapsed": true,
    "execution": {
     "iopub.execute_input": "2022-05-04T02:53:25.569410Z",
     "iopub.status.busy": "2022-05-04T02:53:25.567504Z",
     "iopub.status.idle": "2022-05-04T02:53:25.895522Z",
     "shell.execute_reply": "2022-05-04T02:53:25.896100Z",
     "shell.execute_reply.started": "2022-03-08T01:25:06.420291Z"
    },
    "id": "_dGygsNalXbp",
    "outputId": "2f06a057-c6f4-4d90-92b0-322fe7ea2b3e",
    "papermill": {
     "duration": 0.402271,
     "end_time": "2022-05-04T02:53:25.896275",
     "exception": false,
     "start_time": "2022-05-04T02:53:25.494004",
     "status": "completed"
    },
    "tags": []
   },
   "outputs": [
    {
     "ename": "TypeError",
     "evalue": "numpy boolean subtract, the `-` operator, is not supported, use the bitwise_xor, the `^` operator, or the logical_xor function instead.",
     "output_type": "error",
     "traceback": [
      "\u001b[1;31m---------------------------------------------------------------------------\u001b[0m",
      "\u001b[1;31mTypeError\u001b[0m                                 Traceback (most recent call last)",
      "Cell \u001b[1;32mIn[28], line 2\u001b[0m\n\u001b[0;32m      1\u001b[0m \u001b[38;5;28;01mfrom\u001b[39;00m \u001b[38;5;21;01mimblearn\u001b[39;00m\u001b[38;5;21;01m.\u001b[39;00m\u001b[38;5;21;01mover_sampling\u001b[39;00m \u001b[38;5;28;01mimport\u001b[39;00m SMOTE\n\u001b[1;32m----> 2\u001b[0m X_train, y_train \u001b[38;5;241m=\u001b[39m \u001b[43mSMOTE\u001b[49m\u001b[43m(\u001b[49m\u001b[43m)\u001b[49m\u001b[38;5;241;43m.\u001b[39;49m\u001b[43mfit_resample\u001b[49m\u001b[43m(\u001b[49m\u001b[43mX_train\u001b[49m\u001b[43m,\u001b[49m\u001b[43m \u001b[49m\u001b[43my_train\u001b[49m\u001b[43m)\u001b[49m\n",
      "File \u001b[1;32m~\\AppData\\Roaming\\Python\\Python311\\site-packages\\imblearn\\base.py:208\u001b[0m, in \u001b[0;36mBaseSampler.fit_resample\u001b[1;34m(self, X, y)\u001b[0m\n\u001b[0;32m    187\u001b[0m \u001b[38;5;250m\u001b[39m\u001b[38;5;124;03m\"\"\"Resample the dataset.\u001b[39;00m\n\u001b[0;32m    188\u001b[0m \n\u001b[0;32m    189\u001b[0m \u001b[38;5;124;03mParameters\u001b[39;00m\n\u001b[1;32m   (...)\u001b[0m\n\u001b[0;32m    205\u001b[0m \u001b[38;5;124;03m    The corresponding label of `X_resampled`.\u001b[39;00m\n\u001b[0;32m    206\u001b[0m \u001b[38;5;124;03m\"\"\"\u001b[39;00m\n\u001b[0;32m    207\u001b[0m \u001b[38;5;28mself\u001b[39m\u001b[38;5;241m.\u001b[39m_validate_params()\n\u001b[1;32m--> 208\u001b[0m \u001b[38;5;28;01mreturn\u001b[39;00m \u001b[38;5;28;43msuper\u001b[39;49m\u001b[43m(\u001b[49m\u001b[43m)\u001b[49m\u001b[38;5;241;43m.\u001b[39;49m\u001b[43mfit_resample\u001b[49m\u001b[43m(\u001b[49m\u001b[43mX\u001b[49m\u001b[43m,\u001b[49m\u001b[43m \u001b[49m\u001b[43my\u001b[49m\u001b[43m)\u001b[49m\n",
      "File \u001b[1;32m~\\AppData\\Roaming\\Python\\Python311\\site-packages\\imblearn\\base.py:112\u001b[0m, in \u001b[0;36mSamplerMixin.fit_resample\u001b[1;34m(self, X, y)\u001b[0m\n\u001b[0;32m    106\u001b[0m X, y, binarize_y \u001b[38;5;241m=\u001b[39m \u001b[38;5;28mself\u001b[39m\u001b[38;5;241m.\u001b[39m_check_X_y(X, y)\n\u001b[0;32m    108\u001b[0m \u001b[38;5;28mself\u001b[39m\u001b[38;5;241m.\u001b[39msampling_strategy_ \u001b[38;5;241m=\u001b[39m check_sampling_strategy(\n\u001b[0;32m    109\u001b[0m     \u001b[38;5;28mself\u001b[39m\u001b[38;5;241m.\u001b[39msampling_strategy, y, \u001b[38;5;28mself\u001b[39m\u001b[38;5;241m.\u001b[39m_sampling_type\n\u001b[0;32m    110\u001b[0m )\n\u001b[1;32m--> 112\u001b[0m output \u001b[38;5;241m=\u001b[39m \u001b[38;5;28;43mself\u001b[39;49m\u001b[38;5;241;43m.\u001b[39;49m\u001b[43m_fit_resample\u001b[49m\u001b[43m(\u001b[49m\u001b[43mX\u001b[49m\u001b[43m,\u001b[49m\u001b[43m \u001b[49m\u001b[43my\u001b[49m\u001b[43m)\u001b[49m\n\u001b[0;32m    114\u001b[0m y_ \u001b[38;5;241m=\u001b[39m (\n\u001b[0;32m    115\u001b[0m     label_binarize(output[\u001b[38;5;241m1\u001b[39m], classes\u001b[38;5;241m=\u001b[39mnp\u001b[38;5;241m.\u001b[39munique(y)) \u001b[38;5;28;01mif\u001b[39;00m binarize_y \u001b[38;5;28;01melse\u001b[39;00m output[\u001b[38;5;241m1\u001b[39m]\n\u001b[0;32m    116\u001b[0m )\n\u001b[0;32m    118\u001b[0m X_, y_ \u001b[38;5;241m=\u001b[39m arrays_transformer\u001b[38;5;241m.\u001b[39mtransform(output[\u001b[38;5;241m0\u001b[39m], y_)\n",
      "File \u001b[1;32m~\\AppData\\Roaming\\Python\\Python311\\site-packages\\imblearn\\over_sampling\\_smote\\base.py:383\u001b[0m, in \u001b[0;36mSMOTE._fit_resample\u001b[1;34m(self, X, y)\u001b[0m\n\u001b[0;32m    381\u001b[0m \u001b[38;5;28mself\u001b[39m\u001b[38;5;241m.\u001b[39mnn_k_\u001b[38;5;241m.\u001b[39mfit(X_class)\n\u001b[0;32m    382\u001b[0m nns \u001b[38;5;241m=\u001b[39m \u001b[38;5;28mself\u001b[39m\u001b[38;5;241m.\u001b[39mnn_k_\u001b[38;5;241m.\u001b[39mkneighbors(X_class, return_distance\u001b[38;5;241m=\u001b[39m\u001b[38;5;28;01mFalse\u001b[39;00m)[:, \u001b[38;5;241m1\u001b[39m:]\n\u001b[1;32m--> 383\u001b[0m X_new, y_new \u001b[38;5;241m=\u001b[39m \u001b[38;5;28;43mself\u001b[39;49m\u001b[38;5;241;43m.\u001b[39;49m\u001b[43m_make_samples\u001b[49m\u001b[43m(\u001b[49m\n\u001b[0;32m    384\u001b[0m \u001b[43m    \u001b[49m\u001b[43mX_class\u001b[49m\u001b[43m,\u001b[49m\u001b[43m \u001b[49m\u001b[43my\u001b[49m\u001b[38;5;241;43m.\u001b[39;49m\u001b[43mdtype\u001b[49m\u001b[43m,\u001b[49m\u001b[43m \u001b[49m\u001b[43mclass_sample\u001b[49m\u001b[43m,\u001b[49m\u001b[43m \u001b[49m\u001b[43mX_class\u001b[49m\u001b[43m,\u001b[49m\u001b[43m \u001b[49m\u001b[43mnns\u001b[49m\u001b[43m,\u001b[49m\u001b[43m \u001b[49m\u001b[43mn_samples\u001b[49m\u001b[43m,\u001b[49m\u001b[43m \u001b[49m\u001b[38;5;241;43m1.0\u001b[39;49m\n\u001b[0;32m    385\u001b[0m \u001b[43m\u001b[49m\u001b[43m)\u001b[49m\n\u001b[0;32m    386\u001b[0m X_resampled\u001b[38;5;241m.\u001b[39mappend(X_new)\n\u001b[0;32m    387\u001b[0m y_resampled\u001b[38;5;241m.\u001b[39mappend(y_new)\n",
      "File \u001b[1;32m~\\AppData\\Roaming\\Python\\Python311\\site-packages\\imblearn\\over_sampling\\_smote\\base.py:121\u001b[0m, in \u001b[0;36mBaseSMOTE._make_samples\u001b[1;34m(self, X, y_dtype, y_type, nn_data, nn_num, n_samples, step_size, y)\u001b[0m\n\u001b[0;32m    118\u001b[0m rows \u001b[38;5;241m=\u001b[39m np\u001b[38;5;241m.\u001b[39mfloor_divide(samples_indices, nn_num\u001b[38;5;241m.\u001b[39mshape[\u001b[38;5;241m1\u001b[39m])\n\u001b[0;32m    119\u001b[0m cols \u001b[38;5;241m=\u001b[39m np\u001b[38;5;241m.\u001b[39mmod(samples_indices, nn_num\u001b[38;5;241m.\u001b[39mshape[\u001b[38;5;241m1\u001b[39m])\n\u001b[1;32m--> 121\u001b[0m X_new \u001b[38;5;241m=\u001b[39m \u001b[38;5;28;43mself\u001b[39;49m\u001b[38;5;241;43m.\u001b[39;49m\u001b[43m_generate_samples\u001b[49m\u001b[43m(\u001b[49m\u001b[43mX\u001b[49m\u001b[43m,\u001b[49m\u001b[43m \u001b[49m\u001b[43mnn_data\u001b[49m\u001b[43m,\u001b[49m\u001b[43m \u001b[49m\u001b[43mnn_num\u001b[49m\u001b[43m,\u001b[49m\u001b[43m \u001b[49m\u001b[43mrows\u001b[49m\u001b[43m,\u001b[49m\u001b[43m \u001b[49m\u001b[43mcols\u001b[49m\u001b[43m,\u001b[49m\u001b[43m \u001b[49m\u001b[43msteps\u001b[49m\u001b[43m,\u001b[49m\u001b[43m \u001b[49m\u001b[43my_type\u001b[49m\u001b[43m,\u001b[49m\u001b[43m \u001b[49m\u001b[43my\u001b[49m\u001b[43m)\u001b[49m\n\u001b[0;32m    122\u001b[0m y_new \u001b[38;5;241m=\u001b[39m np\u001b[38;5;241m.\u001b[39mfull(n_samples, fill_value\u001b[38;5;241m=\u001b[39my_type, dtype\u001b[38;5;241m=\u001b[39my_dtype)\n\u001b[0;32m    123\u001b[0m \u001b[38;5;28;01mreturn\u001b[39;00m X_new, y_new\n",
      "File \u001b[1;32m~\\AppData\\Roaming\\Python\\Python311\\site-packages\\imblearn\\over_sampling\\_smote\\base.py:175\u001b[0m, in \u001b[0;36mBaseSMOTE._generate_samples\u001b[1;34m(self, X, nn_data, nn_num, rows, cols, steps, y_type, y)\u001b[0m\n\u001b[0;32m    125\u001b[0m \u001b[38;5;28;01mdef\u001b[39;00m \u001b[38;5;21m_generate_samples\u001b[39m(\n\u001b[0;32m    126\u001b[0m     \u001b[38;5;28mself\u001b[39m, X, nn_data, nn_num, rows, cols, steps, y_type\u001b[38;5;241m=\u001b[39m\u001b[38;5;28;01mNone\u001b[39;00m, y\u001b[38;5;241m=\u001b[39m\u001b[38;5;28;01mNone\u001b[39;00m\n\u001b[0;32m    127\u001b[0m ):\n\u001b[0;32m    128\u001b[0m \u001b[38;5;250m    \u001b[39m\u001b[38;5;124mr\u001b[39m\u001b[38;5;124;03m\"\"\"Generate a synthetic sample.\u001b[39;00m\n\u001b[0;32m    129\u001b[0m \n\u001b[0;32m    130\u001b[0m \u001b[38;5;124;03m    The rule for the generation is:\u001b[39;00m\n\u001b[1;32m   (...)\u001b[0m\n\u001b[0;32m    173\u001b[0m \u001b[38;5;124;03m        Synthetically generated samples.\u001b[39;00m\n\u001b[0;32m    174\u001b[0m \u001b[38;5;124;03m    \"\"\"\u001b[39;00m\n\u001b[1;32m--> 175\u001b[0m     diffs \u001b[38;5;241m=\u001b[39m \u001b[43mnn_data\u001b[49m\u001b[43m[\u001b[49m\u001b[43mnn_num\u001b[49m\u001b[43m[\u001b[49m\u001b[43mrows\u001b[49m\u001b[43m,\u001b[49m\u001b[43m \u001b[49m\u001b[43mcols\u001b[49m\u001b[43m]\u001b[49m\u001b[43m]\u001b[49m\u001b[43m \u001b[49m\u001b[38;5;241;43m-\u001b[39;49m\u001b[43m \u001b[49m\u001b[43mX\u001b[49m\u001b[43m[\u001b[49m\u001b[43mrows\u001b[49m\u001b[43m]\u001b[49m\n\u001b[0;32m    176\u001b[0m     \u001b[38;5;28;01mif\u001b[39;00m y \u001b[38;5;129;01mis\u001b[39;00m \u001b[38;5;129;01mnot\u001b[39;00m \u001b[38;5;28;01mNone\u001b[39;00m:  \u001b[38;5;66;03m# only entering for BorderlineSMOTE-2\u001b[39;00m\n\u001b[0;32m    177\u001b[0m         random_state \u001b[38;5;241m=\u001b[39m check_random_state(\u001b[38;5;28mself\u001b[39m\u001b[38;5;241m.\u001b[39mrandom_state)\n",
      "\u001b[1;31mTypeError\u001b[0m: numpy boolean subtract, the `-` operator, is not supported, use the bitwise_xor, the `^` operator, or the logical_xor function instead."
     ]
    }
   ],
   "source": [
    "from imblearn.over_sampling import SMOTE\n",
    "X_train, y_train = SMOTE().fit_resample(X_train, y_train)"
   ]
  },
  {
   "cell_type": "code",
   "execution_count": 29,
   "id": "234d7561",
   "metadata": {
    "execution": {
     "iopub.execute_input": "2022-05-04T02:53:26.040017Z",
     "iopub.status.busy": "2022-05-04T02:53:26.039365Z",
     "iopub.status.idle": "2022-05-04T02:53:26.249515Z",
     "shell.execute_reply": "2022-05-04T02:53:26.250112Z",
     "shell.execute_reply.started": "2022-03-08T01:25:06.777236Z"
    },
    "id": "x8SkcI_qlxQ2",
    "outputId": "60c3a390-768a-4326-bba0-20dd54439843",
    "papermill": {
     "duration": 0.282954,
     "end_time": "2022-05-04T02:53:26.250298",
     "exception": false,
     "start_time": "2022-05-04T02:53:25.967344",
     "status": "completed"
    },
    "tags": []
   },
   "outputs": [
    {
     "data": {
      "image/png": "[encoded data removed]",
      "text/plain": [
       "<Figure size 640x480 with 1 Axes>"
      ]
     },
     "metadata": {},
     "output_type": "display_data"
    }
   ],
   "source": [
    "sns.set_theme(style=\"darkgrid\")\n",
    "sns.countplot(y=y_train, data=df_drug, palette=\"mako_r\")\n",
    "plt.ylabel('Drug Type')\n",
    "plt.xlabel('Total')\n",
    "plt.show()"
   ]
  },
  {
   "cell_type": "markdown",
   "id": "7fe5d052",
   "metadata": {
    "papermill": {
     "duration": 0.080296,
     "end_time": "2022-05-04T02:53:26.414051",
     "exception": false,
     "start_time": "2022-05-04T02:53:26.333755",
     "status": "completed"
    },
    "tags": []
   },
   "source": [
    "👉 As can be seen, the distrubtion of drug type are now balanced."
   ]
  },
  {
   "cell_type": "markdown",
   "id": "ea7c1b40",
   "metadata": {
    "id": "ZdHv3O78nKZu",
    "papermill": {
     "duration": 0.070394,
     "end_time": "2022-05-04T02:53:26.556771",
     "exception": false,
     "start_time": "2022-05-04T02:53:26.486377",
     "status": "completed"
    },
    "tags": []
   },
   "source": [
    "# 7. Models 🛠"
   ]
  },
  {
   "cell_type": "markdown",
   "id": "3534b4a5",
   "metadata": {
    "id": "Zj2R6eVonNpv",
    "papermill": {
     "duration": 0.069393,
     "end_time": "2022-05-04T02:53:26.696188",
     "exception": false,
     "start_time": "2022-05-04T02:53:26.626795",
     "status": "completed"
    },
    "tags": []
   },
   "source": [
    "## 7.1 Logistic Regression"
   ]
  },
  {
   "cell_type": "code",
   "execution_count": 30,
   "id": "5890314b",
   "metadata": {
    "execution": {
     "iopub.execute_input": "2022-05-04T02:53:26.840093Z",
     "iopub.status.busy": "2022-05-04T02:53:26.839029Z",
     "iopub.status.idle": "2022-05-04T02:53:26.879340Z",
     "shell.execute_reply": "2022-05-04T02:53:26.878739Z",
     "shell.execute_reply.started": "2022-03-08T01:25:07.045415Z"
    },
    "id": "d5s0LhCOnSqn",
    "outputId": "428d6014-59cb-4322-836e-e5c7efaa092e",
    "papermill": {
     "duration": 0.113548,
     "end_time": "2022-05-04T02:53:26.879483",
     "exception": false,
     "start_time": "2022-05-04T02:53:26.765935",
     "status": "completed"
    },
    "tags": []
   },
   "outputs": [
    {
     "name": "stdout",
     "output_type": "stream",
     "text": [
      "Logistic Regression accuracy: 83.33%\n",
      "              precision    recall  f1-score   support\n",
      "\n",
      "       DrugY       0.95      0.70      0.81        30\n",
      "       drugA       0.67      0.80      0.73         5\n",
      "       drugB       0.75      1.00      0.86         3\n",
      "       drugC       0.67      1.00      0.80         4\n",
      "       drugX       0.82      1.00      0.90        18\n",
      "\n",
      "    accuracy                           0.83        60\n",
      "   macro avg       0.77      0.90      0.82        60\n",
      "weighted avg       0.86      0.83      0.83        60\n",
      "\n",
      "[[21  2  1  2  4]\n",
      " [ 1  4  0  0  0]\n",
      " [ 0  0  3  0  0]\n",
      " [ 0  0  0  4  0]\n",
      " [ 0  0  0  0 18]]\n"
     ]
    }
   ],
   "source": [
    "# Logistic Regression\n",
    "LRclassifier = LogisticRegression(solver='liblinear', max_iter=5000)\n",
    "LRclassifier.fit(X_train, y_train)\n",
    "y_pred_lr = LRclassifier.predict(X_test)\n",
    "lr_accuracy = accuracy_score(y_test, y_pred_lr)\n",
    "print('Logistic Regression accuracy: {:.2f}%'.format(lr_accuracy * 100))\n",
    "print(classification_report(y_test, y_pred_lr))\n",
    "print(confusion_matrix(y_test, y_pred_lr))"
   ]
  },
  {
   "cell_type": "markdown",
   "id": "8f600436",
   "metadata": {
    "id": "IMVGDivBnTCN",
    "papermill": {
     "duration": 0.069866,
     "end_time": "2022-05-04T02:53:27.019892",
     "exception": false,
     "start_time": "2022-05-04T02:53:26.950026",
     "status": "completed"
    },
    "tags": []
   },
   "source": [
    "## 7.2 K Neighbours"
   ]
  },
  {
   "cell_type": "code",
   "execution_count": 31,
   "id": "fa800c6f",
   "metadata": {
    "execution": {
     "iopub.execute_input": "2022-05-04T02:53:27.172960Z",
     "iopub.status.busy": "2022-05-04T02:53:27.171889Z",
     "iopub.status.idle": "2022-05-04T02:53:27.185732Z",
     "shell.execute_reply": "2022-05-04T02:53:27.186241Z",
     "shell.execute_reply.started": "2022-03-08T01:25:07.093409Z"
    },
    "papermill": {
     "duration": 0.09542,
     "end_time": "2022-05-04T02:53:27.186418",
     "exception": false,
     "start_time": "2022-05-04T02:53:27.090998",
     "status": "completed"
    },
    "tags": []
   },
   "outputs": [
    {
     "name": "stdout",
     "output_type": "stream",
     "text": [
      "K Nearest Neighbors accuracy: 65.00%\n",
      "              precision    recall  f1-score   support\n",
      "\n",
      "       DrugY       0.65      0.73      0.69        30\n",
      "       drugA       0.67      0.40      0.50         5\n",
      "       drugB       0.00      0.00      0.00         3\n",
      "       drugC       0.00      0.00      0.00         4\n",
      "       drugX       0.71      0.83      0.77        18\n",
      "\n",
      "    accuracy                           0.65        60\n",
      "   macro avg       0.41      0.39      0.39        60\n",
      "weighted avg       0.59      0.65      0.62        60\n",
      "\n",
      "[[22  0  1  1  6]\n",
      " [ 3  2  0  0  0]\n",
      " [ 2  1  0  0  0]\n",
      " [ 4  0  0  0  0]\n",
      " [ 3  0  0  0 15]]\n"
     ]
    }
   ],
   "source": [
    "# K Nearest Neighbors\n",
    "KNclassifier = KNeighborsClassifier(n_neighbors=20)\n",
    "KNclassifier.fit(X_train, y_train)\n",
    "y_pred_knn = KNclassifier.predict(X_test)\n",
    "knn_accuracy = accuracy_score(y_test, y_pred_knn)\n",
    "print('K Nearest Neighbors accuracy: {:.2f}%'.format(knn_accuracy * 100))\n",
    "print(classification_report(y_test, y_pred_knn))\n",
    "print(confusion_matrix(y_test, y_pred_knn))\n"
   ]
  },
  {
   "cell_type": "code",
   "execution_count": 32,
   "id": "c37ab432",
   "metadata": {},
   "outputs": [],
   "source": [
    "# K Neighbors Classifier - Model Tuning\n",
    "score_list_knn = []\n",
    "for i in range(1, 30):\n",
    "    knn_classifier = KNeighborsClassifier(n_neighbors=i)\n",
    "    knn_classifier.fit(X_train, y_train)\n",
    "    score_list_knn.append(knn_classifier.score(X_test, y_test))"
   ]
  },
  {
   "cell_type": "code",
   "execution_count": 33,
   "id": "ce1d4359",
   "metadata": {},
   "outputs": [
    {
     "data": {
      "image/png": "[encoded data removed]",
      "text/plain": [
       "<Figure size 1000x600 with 1 Axes>"
      ]
     },
     "metadata": {},
     "output_type": "display_data"
    }
   ],
   "source": [
    "# Plot K Neighbors Classifier - Model Tuning\n",
    "plt.figure(figsize=(10, 6))\n",
    "plt.plot(range(1, 30), score_list_knn)\n",
    "plt.title('K Neighbors Classifier Accuracy for Different K Values')\n",
    "plt.xlabel('Number of Neighbors (K)')\n",
    "plt.ylabel('Accuracy')\n",
    "plt.xticks(np.arange(1, 30, 1))\n",
    "plt.grid(True)\n",
    "plt.show()"
   ]
  },
  {
   "cell_type": "markdown",
   "id": "bacc2a6c",
   "metadata": {
    "id": "2D1sczYQneQZ",
    "papermill": {
     "duration": 0.072561,
     "end_time": "2022-05-04T02:53:28.063558",
     "exception": false,
     "start_time": "2022-05-04T02:53:27.990997",
     "status": "completed"
    },
    "tags": []
   },
   "source": [
    "## 7.3 Support Vector Machine (SVM)"
   ]
  },
  {
   "cell_type": "code",
   "execution_count": 34,
   "id": "262d8d72",
   "metadata": {},
   "outputs": [
    {
     "name": "stdout",
     "output_type": "stream",
     "text": [
      "Support Vector Machine accuracy: 85.00%\n",
      "              precision    recall  f1-score   support\n",
      "\n",
      "       DrugY       1.00      0.70      0.82        30\n",
      "       drugA       0.71      1.00      0.83         5\n",
      "       drugB       0.75      1.00      0.86         3\n",
      "       drugC       0.67      1.00      0.80         4\n",
      "       drugX       0.82      1.00      0.90        18\n",
      "\n",
      "    accuracy                           0.85        60\n",
      "   macro avg       0.79      0.94      0.84        60\n",
      "weighted avg       0.89      0.85      0.85        60\n",
      "\n",
      "[[21  2  1  2  4]\n",
      " [ 0  5  0  0  0]\n",
      " [ 0  0  3  0  0]\n",
      " [ 0  0  0  4  0]\n",
      " [ 0  0  0  0 18]]\n"
     ]
    }
   ],
   "source": [
    "# Support Vector Machine\n",
    "SVCclassifier = SVC(kernel='linear', max_iter=251)\n",
    "SVCclassifier.fit(X_train, y_train)\n",
    "y_pred_svc = SVCclassifier.predict(X_test)\n",
    "svc_accuracy = accuracy_score(y_test, y_pred_svc)\n",
    "SVCAcc = svc_accuracy * 100  # Assigning the accuracy value to SVCAcc\n",
    "print('Support Vector Machine accuracy: {:.2f}%'.format(SVCAcc))\n",
    "print(classification_report(y_test, y_pred_svc))\n",
    "print(confusion_matrix(y_test, y_pred_svc))"
   ]
  },
  {
   "cell_type": "markdown",
   "id": "a27cd9d8",
   "metadata": {
    "id": "e9WsQ86xninn",
    "papermill": {
     "duration": 0.073019,
     "end_time": "2022-05-04T02:53:28.387869",
     "exception": false,
     "start_time": "2022-05-04T02:53:28.314850",
     "status": "completed"
    },
    "tags": []
   },
   "source": [
    "## 7.4 Naive Bayes\n",
    "### 7.4.1 Categorical NB"
   ]
  },
  {
   "cell_type": "code",
   "execution_count": 35,
   "id": "ab3260b1",
   "metadata": {
    "execution": {
     "iopub.execute_input": "2022-05-04T02:53:28.540752Z",
     "iopub.status.busy": "2022-05-04T02:53:28.540046Z",
     "iopub.status.idle": "2022-05-04T02:53:28.561912Z",
     "shell.execute_reply": "2022-05-04T02:53:28.562385Z",
     "shell.execute_reply.started": "2022-03-08T01:25:07.792769Z"
    },
    "id": "hDILPZC-nktC",
    "outputId": "2b3bff31-f427-472a-c52a-5461e207117a",
    "papermill": {
     "duration": 0.101352,
     "end_time": "2022-05-04T02:53:28.562556",
     "exception": false,
     "start_time": "2022-05-04T02:53:28.461204",
     "status": "completed"
    },
    "tags": []
   },
   "outputs": [
    {
     "name": "stdout",
     "output_type": "stream",
     "text": [
      "Categorical Naive Bayes accuracy: 81.67%\n",
      "              precision    recall  f1-score   support\n",
      "\n",
      "       DrugY       0.95      0.67      0.78        30\n",
      "       drugA       0.62      1.00      0.77         5\n",
      "       drugB       0.75      1.00      0.86         3\n",
      "       drugC       0.67      1.00      0.80         4\n",
      "       drugX       0.81      0.94      0.87        18\n",
      "\n",
      "    accuracy                           0.82        60\n",
      "   macro avg       0.76      0.92      0.82        60\n",
      "weighted avg       0.85      0.82      0.81        60\n",
      "\n",
      "[[20  3  1  2  4]\n",
      " [ 0  5  0  0  0]\n",
      " [ 0  0  3  0  0]\n",
      " [ 0  0  0  4  0]\n",
      " [ 1  0  0  0 17]]\n"
     ]
    }
   ],
   "source": [
    "# Naive Bayes - CategoricalNB\n",
    "NBclassifier1 = CategoricalNB()\n",
    "NBclassifier1.fit(X_train, y_train)\n",
    "y_pred_nb1 = NBclassifier1.predict(X_test)\n",
    "nb_accuracy1 = accuracy_score(y_test, y_pred_nb1)\n",
    "print('Categorical Naive Bayes accuracy: {:.2f}%'.format(nb_accuracy1 * 100))\n",
    "print(classification_report(y_test, y_pred_nb1))\n",
    "print(confusion_matrix(y_test, y_pred_nb1))"
   ]
  },
  {
   "cell_type": "markdown",
   "id": "33c1c96d",
   "metadata": {
    "papermill": {
     "duration": 0.073293,
     "end_time": "2022-05-04T02:53:28.708846",
     "exception": false,
     "start_time": "2022-05-04T02:53:28.635553",
     "status": "completed"
    },
    "tags": []
   },
   "source": [
    "### 7.4.2 Gaussian NB"
   ]
  },
  {
   "cell_type": "code",
   "execution_count": 36,
   "id": "66059076",
   "metadata": {
    "execution": {
     "iopub.execute_input": "2022-05-04T02:53:28.868462Z",
     "iopub.status.busy": "2022-05-04T02:53:28.867418Z",
     "iopub.status.idle": "2022-05-04T02:53:28.881235Z",
     "shell.execute_reply": "2022-05-04T02:53:28.881681Z",
     "shell.execute_reply.started": "2022-03-08T01:25:07.821073Z"
    },
    "papermill": {
     "duration": 0.096459,
     "end_time": "2022-05-04T02:53:28.881873",
     "exception": false,
     "start_time": "2022-05-04T02:53:28.785414",
     "status": "completed"
    },
    "tags": []
   },
   "outputs": [
    {
     "name": "stdout",
     "output_type": "stream",
     "text": [
      "Gaussian Naive Bayes accuracy: 85.00%\n",
      "              precision    recall  f1-score   support\n",
      "\n",
      "       DrugY       1.00      0.70      0.82        30\n",
      "       drugA       0.71      1.00      0.83         5\n",
      "       drugB       0.75      1.00      0.86         3\n",
      "       drugC       0.67      1.00      0.80         4\n",
      "       drugX       0.82      1.00      0.90        18\n",
      "\n",
      "    accuracy                           0.85        60\n",
      "   macro avg       0.79      0.94      0.84        60\n",
      "weighted avg       0.89      0.85      0.85        60\n",
      "\n",
      "[[21  2  1  2  4]\n",
      " [ 0  5  0  0  0]\n",
      " [ 0  0  3  0  0]\n",
      " [ 0  0  0  4  0]\n",
      " [ 0  0  0  0 18]]\n"
     ]
    }
   ],
   "source": [
    "# Naive Bayes - GaussianNB\n",
    "NBclassifier2 = GaussianNB()\n",
    "NBclassifier2.fit(X_train, y_train)\n",
    "y_pred_nb2 = NBclassifier2.predict(X_test)\n",
    "nb_accuracy2 = accuracy_score(y_test, y_pred_nb2)\n",
    "print('Gaussian Naive Bayes accuracy: {:.2f}%'.format(nb_accuracy2 * 100))\n",
    "print(classification_report(y_test, y_pred_nb2))\n",
    "print(confusion_matrix(y_test, y_pred_nb2))"
   ]
  },
  {
   "cell_type": "markdown",
   "id": "145b2404",
   "metadata": {
    "id": "t2mXDibjnj2q",
    "papermill": {
     "duration": 0.074099,
     "end_time": "2022-05-04T02:53:29.029910",
     "exception": false,
     "start_time": "2022-05-04T02:53:28.955811",
     "status": "completed"
    },
    "tags": []
   },
   "source": [
    "## 7.5 Decision Tree"
   ]
  },
  {
   "cell_type": "code",
   "execution_count": 37,
   "id": "e7fea0de",
   "metadata": {
    "execution": {
     "iopub.execute_input": "2022-05-04T02:53:29.183748Z",
     "iopub.status.busy": "2022-05-04T02:53:29.183051Z",
     "iopub.status.idle": "2022-05-04T02:53:29.200342Z",
     "shell.execute_reply": "2022-05-04T02:53:29.200852Z",
     "shell.execute_reply.started": "2022-03-08T01:25:07.843802Z"
    },
    "id": "08HoXmgsnmd0",
    "outputId": "b8b57bdc-3f4a-4e33-b33d-dd974ba5dac2",
    "papermill": {
     "duration": 0.096105,
     "end_time": "2022-05-04T02:53:29.201046",
     "exception": false,
     "start_time": "2022-05-04T02:53:29.104941",
     "status": "completed"
    },
    "tags": []
   },
   "outputs": [
    {
     "name": "stdout",
     "output_type": "stream",
     "text": [
      "Decision Tree accuracy: 78.33%\n",
      "              precision    recall  f1-score   support\n",
      "\n",
      "       DrugY       0.87      0.67      0.75        30\n",
      "       drugA       0.43      0.60      0.50         5\n",
      "       drugB       0.75      1.00      0.86         3\n",
      "       drugC       0.67      1.00      0.80         4\n",
      "       drugX       0.85      0.94      0.89        18\n",
      "\n",
      "    accuracy                           0.78        60\n",
      "   macro avg       0.71      0.84      0.76        60\n",
      "weighted avg       0.81      0.78      0.78        60\n",
      "\n",
      "[[20  4  1  2  3]\n",
      " [ 2  3  0  0  0]\n",
      " [ 0  0  3  0  0]\n",
      " [ 0  0  0  4  0]\n",
      " [ 1  0  0  0 17]]\n"
     ]
    }
   ],
   "source": [
    "# Decision Tree\n",
    "DTclassifier = DecisionTreeClassifier(max_leaf_nodes=20)\n",
    "DTclassifier.fit(X_train, y_train)\n",
    "y_pred_dt = DTclassifier.predict(X_test)\n",
    "dt_accuracy = accuracy_score(y_test, y_pred_dt)\n",
    "print('Decision Tree accuracy: {:.2f}%'.format(dt_accuracy * 100))\n",
    "print(classification_report(y_test, y_pred_dt))\n",
    "print(confusion_matrix(y_test, y_pred_dt))"
   ]
  },
  {
   "cell_type": "code",
   "execution_count": 38,
   "id": "955268b8",
   "metadata": {
    "execution": {
     "iopub.execute_input": "2022-05-04T02:53:29.353120Z",
     "iopub.status.busy": "2022-05-04T02:53:29.352416Z",
     "iopub.status.idle": "2022-05-04T02:53:29.748469Z",
     "shell.execute_reply": "2022-05-04T02:53:29.749009Z",
     "shell.execute_reply.started": "2022-03-08T01:25:07.865647Z"
    },
    "papermill": {
     "duration": 0.473827,
     "end_time": "2022-05-04T02:53:29.749197",
     "exception": false,
     "start_time": "2022-05-04T02:53:29.275370",
     "status": "completed"
    },
    "tags": []
   },
   "outputs": [
    {
     "data": {
      "image/png": "[encoded data removed]",
      "text/plain": [
       "<Figure size 1000x600 with 1 Axes>"
      ]
     },
     "metadata": {},
     "output_type": "display_data"
    }
   ],
   "source": [
    "# Decision Tree Classifier - Model Tuning\n",
    "score_list_dt = []\n",
    "for i in range(2, 50):\n",
    "    dt_classifier = DecisionTreeClassifier(max_leaf_nodes=i)\n",
    "    dt_classifier.fit(X_train, y_train)\n",
    "    score_list_dt.append(dt_classifier.score(X_test, y_test))\n",
    "\n",
    "# Plot Decision Tree Classifier - Model Tuning\n",
    "plt.figure(figsize=(10, 6))\n",
    "plt.plot(range(2, 50), score_list_dt)\n",
    "plt.title('Decision Tree Classifier Accuracy for Different Max Leaf Nodes')\n",
    "plt.xlabel('Max Leaf Nodes')\n",
    "plt.ylabel('Accuracy')\n",
    "plt.xticks(np.arange(2, 50, 5))\n",
    "plt.grid(True)\n",
    "plt.show()"
   ]
  },
  {
   "cell_type": "markdown",
   "id": "c04585d9",
   "metadata": {
    "id": "RddcpXutnmsq",
    "papermill": {
     "duration": 0.077205,
     "end_time": "2022-05-04T02:53:29.902754",
     "exception": false,
     "start_time": "2022-05-04T02:53:29.825549",
     "status": "completed"
    },
    "tags": []
   },
   "source": [
    "## 7.6 Random Forest"
   ]
  },
  {
   "cell_type": "code",
   "execution_count": 39,
   "id": "38dba457",
   "metadata": {
    "execution": {
     "iopub.execute_input": "2022-05-04T02:53:30.060629Z",
     "iopub.status.busy": "2022-05-04T02:53:30.059654Z",
     "iopub.status.idle": "2022-05-04T02:53:30.279329Z",
     "shell.execute_reply": "2022-05-04T02:53:30.278778Z",
     "shell.execute_reply.started": "2022-03-08T01:25:08.31948Z"
    },
    "id": "N1m2oLhRnzm8",
    "outputId": "833fa334-7370-467d-aa26-a1b4c4b9a495",
    "papermill": {
     "duration": 0.299608,
     "end_time": "2022-05-04T02:53:30.279477",
     "exception": false,
     "start_time": "2022-05-04T02:53:29.979869",
     "status": "completed"
    },
    "tags": []
   },
   "outputs": [
    {
     "name": "stdout",
     "output_type": "stream",
     "text": [
      "Random Forest accuracy: 81.67%\n",
      "              precision    recall  f1-score   support\n",
      "\n",
      "       DrugY       0.88      0.73      0.80        30\n",
      "       drugA       0.67      0.80      0.73         5\n",
      "       drugB       0.75      1.00      0.86         3\n",
      "       drugC       0.67      1.00      0.80         4\n",
      "       drugX       0.84      0.89      0.86        18\n",
      "\n",
      "    accuracy                           0.82        60\n",
      "   macro avg       0.76      0.88      0.81        60\n",
      "weighted avg       0.83      0.82      0.82        60\n",
      "\n",
      "[[22  2  1  2  3]\n",
      " [ 1  4  0  0  0]\n",
      " [ 0  0  3  0  0]\n",
      " [ 0  0  0  4  0]\n",
      " [ 2  0  0  0 16]]\n"
     ]
    }
   ],
   "source": [
    "# Random Forest\n",
    "RFclassifier = RandomForestClassifier(max_leaf_nodes=30)\n",
    "RFclassifier.fit(X_train, y_train)\n",
    "y_pred_rf = RFclassifier.predict(X_test)\n",
    "rf_accuracy = accuracy_score(y_test, y_pred_rf)\n",
    "print('Random Forest accuracy: {:.2f}%'.format(rf_accuracy * 100))\n",
    "print(classification_report(y_test, y_pred_rf))\n",
    "print(confusion_matrix(y_test, y_pred_rf))"
   ]
  },
  {
   "cell_type": "code",
   "execution_count": 40,
   "id": "c5c94795",
   "metadata": {
    "execution": {
     "iopub.execute_input": "2022-05-04T02:53:30.438305Z",
     "iopub.status.busy": "2022-05-04T02:53:30.437334Z",
     "iopub.status.idle": "2022-05-04T02:55:06.670664Z",
     "shell.execute_reply": "2022-05-04T02:55:06.670052Z",
     "shell.execute_reply.started": "2022-03-08T01:25:08.544304Z"
    },
    "papermill": {
     "duration": 96.313733,
     "end_time": "2022-05-04T02:55:06.670819",
     "exception": false,
     "start_time": "2022-05-04T02:53:30.357086",
     "status": "completed"
    },
    "tags": []
   },
   "outputs": [
    {
     "data": {
      "image/png": "[encoded data removed]",
      "text/plain": [
       "<Figure size 1000x600 with 1 Axes>"
      ]
     },
     "metadata": {},
     "output_type": "display_data"
    }
   ],
   "source": [
    "# Random Forest Classifier - Model Tuning\n",
    "score_list_rf = []\n",
    "for i in range(2, 50):\n",
    "    rf_classifier = RandomForestClassifier(n_estimators=1000, random_state=1, max_leaf_nodes=i)\n",
    "    rf_classifier.fit(X_train, y_train)\n",
    "    score_list_rf.append(rf_classifier.score(X_test, y_test))\n",
    "\n",
    "# Plot Random Forest Classifier - Model Tuning\n",
    "plt.figure(figsize=(10, 6))\n",
    "plt.plot(range(2, 50), score_list_rf)\n",
    "plt.title('Random Forest Classifier Accuracy for Different Max Leaf Nodes')\n",
    "plt.xlabel('Max Leaf Nodes')\n",
    "plt.ylabel('Accuracy')\n",
    "plt.xticks(np.arange(2, 50, 5))\n",
    "plt.grid(True)\n",
    "plt.show()\n"
   ]
  },
  {
   "cell_type": "markdown",
   "id": "7512e97d",
   "metadata": {
    "id": "_xm7OvKS07Zl",
    "papermill": {
     "duration": 0.140707,
     "end_time": "2022-05-04T02:55:06.897435",
     "exception": false,
     "start_time": "2022-05-04T02:55:06.756728",
     "status": "completed"
    },
    "tags": []
   },
   "source": [
    "# 8. Model Comparison 👀"
   ]
  },
  {
   "cell_type": "code",
   "execution_count": 41,
   "id": "2fb6a3ba",
   "metadata": {},
   "outputs": [
    {
     "data": {
      "text/html": [
       "<div>\n",
       "<style scoped>\n",
       "    .dataframe tbody tr th:only-of-type {\n",
       "        vertical-align: middle;\n",
       "    }\n",
       "\n",
       "    .dataframe tbody tr th {\n",
       "        vertical-align: top;\n",
       "    }\n",
       "\n",
       "    .dataframe thead th {\n",
       "        text-align: right;\n",
       "    }\n",
       "</style>\n",
       "<table border=\"1\" class=\"dataframe\">\n",
       "  <thead>\n",
       "    <tr style=\"text-align: right;\">\n",
       "      <th></th>\n",
       "      <th>Model</th>\n",
       "      <th>Accuracy</th>\n",
       "    </tr>\n",
       "  </thead>\n",
       "  <tbody>\n",
       "    <tr>\n",
       "      <th>2</th>\n",
       "      <td>Support Vector Machine</td>\n",
       "      <td>85.000000</td>\n",
       "    </tr>\n",
       "    <tr>\n",
       "      <th>4</th>\n",
       "      <td>Gaussian Naive Bayes</td>\n",
       "      <td>85.000000</td>\n",
       "    </tr>\n",
       "    <tr>\n",
       "      <th>0</th>\n",
       "      <td>Logistic Regression</td>\n",
       "      <td>83.333333</td>\n",
       "    </tr>\n",
       "    <tr>\n",
       "      <th>3</th>\n",
       "      <td>Categorical Naive Bayes</td>\n",
       "      <td>81.666667</td>\n",
       "    </tr>\n",
       "    <tr>\n",
       "      <th>6</th>\n",
       "      <td>Random Forest</td>\n",
       "      <td>81.666667</td>\n",
       "    </tr>\n",
       "    <tr>\n",
       "      <th>5</th>\n",
       "      <td>Decision Tree</td>\n",
       "      <td>78.333333</td>\n",
       "    </tr>\n",
       "    <tr>\n",
       "      <th>1</th>\n",
       "      <td>K Neighbors</td>\n",
       "      <td>65.000000</td>\n",
       "    </tr>\n",
       "  </tbody>\n",
       "</table>\n",
       "</div>"
      ],
      "text/plain": [
       "                     Model   Accuracy\n",
       "2   Support Vector Machine  85.000000\n",
       "4     Gaussian Naive Bayes  85.000000\n",
       "0      Logistic Regression  83.333333\n",
       "3  Categorical Naive Bayes  81.666667\n",
       "6            Random Forest  81.666667\n",
       "5            Decision Tree  78.333333\n",
       "1              K Neighbors  65.000000"
      ]
     },
     "execution_count": 41,
     "metadata": {},
     "output_type": "execute_result"
    }
   ],
   "source": [
    "import pandas as pd\n",
    "# Define the accuracy scores for each model\n",
    "accuracy_scores = {\n",
    "    'Logistic Regression': lr_accuracy * 100,\n",
    "    'K Neighbors': knn_accuracy * 100,\n",
    "    'Support Vector Machine': SVCAcc,\n",
    "    'Categorical Naive Bayes': nb_accuracy1 * 100,\n",
    "    'Gaussian Naive Bayes': nb_accuracy2 * 100,\n",
    "    'Decision Tree': dt_accuracy * 100,\n",
    "    'Random Forest': rf_accuracy * 100\n",
    "}\n",
    "\n",
    "# Create DataFrame for model comparison\n",
    "model_comparison = pd.DataFrame(accuracy_scores.items(), columns=['Model', 'Accuracy'])\n",
    "\n",
    "# Sort the DataFrame by Accuracy in descending order\n",
    "model_comparison.sort_values(by='Accuracy', ascending=False, inplace=True)\n",
    "\n",
    "# Print the sorted DataFrame\n",
    "model_comparison"
   ]
  },
  {
   "cell_type": "markdown",
   "id": "5d75c22f",
   "metadata": {
    "id": "5_JCBDAw1hJd",
    "papermill": {
     "duration": 0.082927,
     "end_time": "2022-05-04T02:55:07.250053",
     "exception": false,
     "start_time": "2022-05-04T02:55:07.167126",
     "status": "completed"
    },
    "tags": []
   },
   "source": [
    "👉 From the results, it can be seen that most of ML models can reach **up to 80% accuracy** in predicting classification of drug type."
   ]
  },
  {
   "cell_type": "markdown",
   "id": "b470c677",
   "metadata": {
    "papermill": {
     "duration": 0.084176,
     "end_time": "2022-05-04T02:55:07.417492",
     "exception": false,
     "start_time": "2022-05-04T02:55:07.333316",
     "status": "completed"
    },
    "tags": []
   },
   "source": [
    "# 9. Output 📤\n",
    "👉 The next step will make output results in csv file."
   ]
  },
  {
   "cell_type": "markdown",
   "id": "44abc6a7",
   "metadata": {
    "papermill": {
     "duration": 0.081164,
     "end_time": "2022-05-04T02:55:07.579797",
     "exception": false,
     "start_time": "2022-05-04T02:55:07.498633",
     "status": "completed"
    },
    "tags": []
   },
   "source": [
    "## 9.1 Transforming prediction in appropriate output format 🧹"
   ]
  },
  {
   "cell_type": "code",
   "execution_count": 42,
   "id": "6ff86056",
   "metadata": {
    "execution": {
     "iopub.execute_input": "2022-05-04T02:55:07.744490Z",
     "iopub.status.busy": "2022-05-04T02:55:07.743787Z",
     "iopub.status.idle": "2022-05-04T02:55:07.757167Z",
     "shell.execute_reply": "2022-05-04T02:55:07.757712Z",
     "shell.execute_reply.started": "2022-03-08T01:26:43.776906Z"
    },
    "papermill": {
     "duration": 0.097648,
     "end_time": "2022-05-04T02:55:07.757890",
     "exception": false,
     "start_time": "2022-05-04T02:55:07.660242",
     "status": "completed"
    },
    "scrolled": true,
    "tags": []
   },
   "outputs": [],
   "source": [
    "# Save predictions to a CSV file\n",
    "prediction = pd.DataFrame({\n",
    "    'Sex_F': X_test.loc[:, \"Sex_F\"],\n",
    "    'Sex_M': X_test.loc[:, \"Sex_M\"],\n",
    "    'BP_HIGH': X_test.loc[:, \"BP_HIGH\"],\n",
    "    'BP_LOW': X_test.loc[:, \"BP_LOW\"],\n",
    "    'BP_NORMAL': X_test.loc[:, \"BP_NORMAL\"],\n",
    "    'Cholesterol_HIGH': X_test.loc[:, \"Cholesterol_HIGH\"],\n",
    "    'Cholesterol_NORMAL': X_test.loc[:, \"Cholesterol_NORMAL\"],\n",
    "    'Age_binned_<20s': X_test.loc[:, \"Age_binned_<20s\"],\n",
    "    'Age_binned_20s': X_test.loc[:, \"Age_binned_20s\"],\n",
    "    'Age_binned_30s': X_test.loc[:, \"Age_binned_30s\"],\n",
    "    'Age_binned_40s': X_test.loc[:, \"Age_binned_40s\"],\n",
    "    'Age_binned_50s': X_test.loc[:, \"Age_binned_50s\"],\n",
    "    'Age_binned_60s': X_test.loc[:, \"Age_binned_60s\"],\n",
    "    'Age_binned_>60s': X_test.loc[:, \"Age_binned_>60s\"],\n",
    "    'Na_to_K_binned_<10': X_test.loc[:, \"Na_to_K_binned_<10\"],\n",
    "    'Na_to_K_binned_10-20': X_test.loc[:, \"Na_to_K_binned_10-20\"],\n",
    "    'Na_to_K_binned_20-30': X_test.loc[:, \"Na_to_K_binned_20-30\"],\n",
    "    'Na_to_K_binned_>30': X_test.loc[:, \"Na_to_K_binned_>30\"],\n",
    "    'DrugType': y_pred_lr  # Assuming LRclassifier is the best model\n",
    "})\n"
   ]
  },
  {
   "cell_type": "code",
   "execution_count": 43,
   "id": "4e0a857e",
   "metadata": {
    "execution": {
     "iopub.execute_input": "2022-05-04T02:55:07.925228Z",
     "iopub.status.busy": "2022-05-04T02:55:07.924473Z",
     "iopub.status.idle": "2022-05-04T02:55:07.970602Z",
     "shell.execute_reply": "2022-05-04T02:55:07.970068Z",
     "shell.execute_reply.started": "2022-03-08T01:26:43.799653Z"
    },
    "papermill": {
     "duration": 0.131211,
     "end_time": "2022-05-04T02:55:07.970773",
     "exception": false,
     "start_time": "2022-05-04T02:55:07.839562",
     "status": "completed"
    },
    "tags": []
   },
   "outputs": [],
   "source": [
    "# Sex\n",
    "prediction['Sex_F'] = prediction['Sex_F'].replace([1, 0],['Female', 'Male'])\n",
    "\n",
    "#BP\n",
    "prediction['BP_HIGH'] = prediction['BP_HIGH'].replace([1, 0],['High',''])\n",
    "prediction['BP_LOW'] = prediction['BP_LOW'].replace([1, 0],['Low', ''])\n",
    "prediction['BP_NORMAL'] = prediction['BP_NORMAL'].replace([1, 0],['Normal', ''])\n",
    "\n",
    "prediction['BP_HIGH'] = np.where((prediction['BP_HIGH'] == ''), prediction['BP_LOW'], prediction['BP_HIGH'])\n",
    "prediction['BP_HIGH'] = np.where((prediction['BP_HIGH'] == ''), prediction['BP_NORMAL'], prediction['BP_HIGH'])\n",
    "\n",
    "#Cholestrol\n",
    "prediction['Cholesterol_HIGH'] = prediction['Cholesterol_HIGH'].replace([1, 0],['High', 'Normal'])\n",
    "\n",
    "#Age_binned\n",
    "prediction['Age_binned_<20s'] = prediction['Age_binned_<20s'].replace([1, 0],['<20s',''])\n",
    "prediction['Age_binned_20s'] = prediction['Age_binned_20s'].replace([1, 0],['20s',''])\n",
    "prediction['Age_binned_30s'] = prediction['Age_binned_30s'].replace([1, 0],['30s',''])\n",
    "prediction['Age_binned_40s'] = prediction['Age_binned_40s'].replace([1, 0],['40s',''])\n",
    "prediction['Age_binned_50s'] = prediction['Age_binned_50s'].replace([1, 0],['50s',''])\n",
    "prediction['Age_binned_60s'] = prediction['Age_binned_60s'].replace([1, 0],['60s',''])\n",
    "prediction['Age_binned_>60s'] = prediction['Age_binned_>60s'].replace([1, 0],['>60s',''])\n",
    "\n",
    "prediction['Age_binned_<20s'] = np.where((prediction['Age_binned_<20s'] == ''), prediction['Age_binned_20s'], prediction['Age_binned_<20s'])\n",
    "prediction['Age_binned_<20s'] = np.where((prediction['Age_binned_<20s'] == ''), prediction['Age_binned_30s'], prediction['Age_binned_<20s'])\n",
    "prediction['Age_binned_<20s'] = np.where((prediction['Age_binned_<20s'] == ''), prediction['Age_binned_40s'], prediction['Age_binned_<20s'])\n",
    "prediction['Age_binned_<20s'] = np.where((prediction['Age_binned_<20s'] == ''), prediction['Age_binned_50s'], prediction['Age_binned_<20s'])\n",
    "prediction['Age_binned_<20s'] = np.where((prediction['Age_binned_<20s'] == ''), prediction['Age_binned_60s'], prediction['Age_binned_<20s'])\n",
    "prediction['Age_binned_<20s'] = np.where((prediction['Age_binned_<20s'] == ''), prediction['Age_binned_>60s'], prediction['Age_binned_<20s'])\n",
    "\n",
    "#Na to K\n",
    "prediction['Na_to_K_binned_<10'] = prediction['Na_to_K_binned_<10'].replace([1, 0],['<10',''])\n",
    "prediction['Na_to_K_binned_10-20'] = prediction['Na_to_K_binned_10-20'].replace([1, 0],['10-20',''])\n",
    "prediction['Na_to_K_binned_20-30'] = prediction['Na_to_K_binned_20-30'].replace([1, 0],['20-30',''])\n",
    "prediction['Na_to_K_binned_>30'] = prediction['Na_to_K_binned_>30'].replace([1, 0],['>30s',''])\n",
    "\n",
    "prediction['Na_to_K_binned_<10'] = np.where((prediction['Na_to_K_binned_<10'] == ''), prediction['Na_to_K_binned_10-20'], prediction['Na_to_K_binned_<10'])\n",
    "prediction['Na_to_K_binned_<10'] = np.where((prediction['Na_to_K_binned_<10'] == ''), prediction['Na_to_K_binned_20-30'], prediction['Na_to_K_binned_<10'])\n",
    "prediction['Na_to_K_binned_<10'] = np.where((prediction['Na_to_K_binned_<10'] == ''), prediction['Na_to_K_binned_>30'], prediction['Na_to_K_binned_<10'])\n",
    "\n",
    "# Drop columns\n",
    "prediction = prediction.drop(['Sex_M', 'BP_LOW', 'BP_NORMAL', 'Cholesterol_NORMAL', 'Age_binned_20s', 'Age_binned_30s',\n",
    "                 'Age_binned_40s', 'Age_binned_50s', 'Age_binned_60s', 'Age_binned_>60s',\n",
    "                'Na_to_K_binned_10-20', 'Na_to_K_binned_20-30', 'Na_to_K_binned_>30'], axis = 1)"
   ]
  },
  {
   "cell_type": "code",
   "execution_count": 44,
   "id": "8d603d1d",
   "metadata": {
    "execution": {
     "iopub.execute_input": "2022-05-04T02:55:08.142301Z",
     "iopub.status.busy": "2022-05-04T02:55:08.141589Z",
     "iopub.status.idle": "2022-05-04T02:55:08.143662Z",
     "shell.execute_reply": "2022-05-04T02:55:08.144198Z",
     "shell.execute_reply.started": "2022-03-08T01:26:43.848292Z"
    },
    "papermill": {
     "duration": 0.090514,
     "end_time": "2022-05-04T02:55:08.144533",
     "exception": false,
     "start_time": "2022-05-04T02:55:08.054019",
     "status": "completed"
    },
    "tags": []
   },
   "outputs": [],
   "source": [
    "# Rename columns name\n",
    "new_name = {'Sex_F': 'Sex', 'BP_HIGH': 'BP', 'Cholesterol_HIGH': 'Cholesterol', 'Age_binned_<20s': 'Age_binned',\n",
    "          'Na_to_K_binned_<10': 'Na_to_K_binned'}\n",
    "prediction.rename(columns=new_name, inplace=True)"
   ]
  },
  {
   "cell_type": "markdown",
   "id": "b10c4587",
   "metadata": {
    "papermill": {
     "duration": 0.080601,
     "end_time": "2022-05-04T02:55:08.307497",
     "exception": false,
     "start_time": "2022-05-04T02:55:08.226896",
     "status": "completed"
    },
    "tags": []
   },
   "source": [
    "## 9.2 Generating output file (CSV) 📄"
   ]
  },
  {
   "cell_type": "code",
   "execution_count": 48,
   "id": "151142c8",
   "metadata": {
    "execution": {
     "iopub.execute_input": "2022-05-04T02:55:08.469427Z",
     "iopub.status.busy": "2022-05-04T02:55:08.468705Z",
     "iopub.status.idle": "2022-05-04T02:55:08.485885Z",
     "shell.execute_reply": "2022-05-04T02:55:08.486500Z",
     "shell.execute_reply.started": "2022-03-08T01:26:43.856338Z"
    },
    "papermill": {
     "duration": 0.099969,
     "end_time": "2022-05-04T02:55:08.486680",
     "exception": false,
     "start_time": "2022-05-04T02:55:08.386711",
     "status": "completed"
    },
    "scrolled": true,
    "tags": []
   },
   "outputs": [
    {
     "data": {
      "text/html": [
       "<div>\n",
       "<style scoped>\n",
       "    .dataframe tbody tr th:only-of-type {\n",
       "        vertical-align: middle;\n",
       "    }\n",
       "\n",
       "    .dataframe tbody tr th {\n",
       "        vertical-align: top;\n",
       "    }\n",
       "\n",
       "    .dataframe thead th {\n",
       "        text-align: right;\n",
       "    }\n",
       "</style>\n",
       "<table border=\"1\" class=\"dataframe\">\n",
       "  <thead>\n",
       "    <tr style=\"text-align: right;\">\n",
       "      <th></th>\n",
       "      <th>Sex</th>\n",
       "      <th>BP</th>\n",
       "      <th>Cholesterol</th>\n",
       "      <th>Age_binned</th>\n",
       "      <th>Na_to_K_binned</th>\n",
       "      <th>DrugType</th>\n",
       "    </tr>\n",
       "  </thead>\n",
       "  <tbody>\n",
       "    <tr>\n",
       "      <th>0</th>\n",
       "      <td>Male</td>\n",
       "      <td>Low</td>\n",
       "      <td>High</td>\n",
       "      <td>20s</td>\n",
       "      <td>&lt;10</td>\n",
       "      <td>drugX</td>\n",
       "    </tr>\n",
       "    <tr>\n",
       "      <th>1</th>\n",
       "      <td>Female</td>\n",
       "      <td>Normal</td>\n",
       "      <td>High</td>\n",
       "      <td>20s</td>\n",
       "      <td>10-20</td>\n",
       "      <td>drugX</td>\n",
       "    </tr>\n",
       "    <tr>\n",
       "      <th>2</th>\n",
       "      <td>Male</td>\n",
       "      <td>Low</td>\n",
       "      <td>High</td>\n",
       "      <td>40s</td>\n",
       "      <td>20-30</td>\n",
       "      <td>DrugY</td>\n",
       "    </tr>\n",
       "    <tr>\n",
       "      <th>3</th>\n",
       "      <td>Male</td>\n",
       "      <td>High</td>\n",
       "      <td>Normal</td>\n",
       "      <td>20s</td>\n",
       "      <td>&gt;30s</td>\n",
       "      <td>DrugY</td>\n",
       "    </tr>\n",
       "    <tr>\n",
       "      <th>4</th>\n",
       "      <td>Male</td>\n",
       "      <td>Normal</td>\n",
       "      <td>High</td>\n",
       "      <td>20s</td>\n",
       "      <td>20-30</td>\n",
       "      <td>DrugY</td>\n",
       "    </tr>\n",
       "  </tbody>\n",
       "</table>\n",
       "</div>"
      ],
      "text/plain": [
       "      Sex      BP Cholesterol Age_binned Na_to_K_binned DrugType\n",
       "0    Male     Low        High        20s            <10    drugX\n",
       "1  Female  Normal        High        20s          10-20    drugX\n",
       "2    Male     Low        High        40s          20-30    DrugY\n",
       "3    Male    High      Normal        20s           >30s    DrugY\n",
       "4    Male  Normal        High        20s          20-30    DrugY"
      ]
     },
     "execution_count": 48,
     "metadata": {},
     "output_type": "execute_result"
    }
   ],
   "source": [
    "prediction = pd.read_csv(r\"C:\\Users\\Lokesh Patra\\Documents\\Projects\\IBM ICE Day 2\\prediction.csv\")\n",
    "prediction.head()"
   ]
  },
  {
   "cell_type": "markdown",
   "id": "13f6d81d",
   "metadata": {
    "papermill": {
     "duration": 0.079303,
     "end_time": "2022-05-04T02:55:08.645197",
     "exception": false,
     "start_time": "2022-05-04T02:55:08.565894",
     "status": "completed"
    },
    "tags": []
   },
   "source": [
    "# 10. References 🔗\n",
    "#### > Paw Repository\n",
    "#### > Global MedScience\n",
    "#### > LabBase_"
   ]
  },
  {
   "cell_type": "code",
   "execution_count": null,
   "id": "547ccebc",
   "metadata": {},
   "outputs": [],
   "source": []
  }
 ],
 "metadata": {
  "kernelspec": {
   "display_name": "Python 3 (ipykernel)",
   "language": "python",
   "name": "python3"
  },
  "language_info": {
   "codemirror_mode": {
    "name": "ipython",
    "version": 3
   },
   "file_extension": ".py",
   "mimetype": "text/x-python",
   "name": "python",
   "nbconvert_exporter": "python",
   "pygments_lexer": "ipython3",
   "version": "3.11.0"
  },
  "papermill": {
   "default_parameters": {},
   "duration": 123.972965,
   "end_time": "2022-05-04T02:55:10.135212",
   "environment_variables": {},
   "exception": null,
   "input_path": "__notebook__.ipynb",
   "output_path": "__notebook__.ipynb",
   "parameters": {},
   "start_time": "2022-05-04T02:53:06.162247",
   "version": "2.3.3"
  }
 },
 "nbformat": 4,
 "nbformat_minor": 5
}
